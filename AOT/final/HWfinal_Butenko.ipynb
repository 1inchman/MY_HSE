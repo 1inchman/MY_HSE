{
 "cells": [
  {
   "cell_type": "markdown",
   "metadata": {},
   "source": [
    "# Итоговое задание по курсу АОТ"
   ]
  },
  {
   "cell_type": "markdown",
   "metadata": {},
   "source": [
    "### Язык программирования python3 (задание E, пункт 2: тематическая классификация на основе векторной модели текста)"
   ]
  },
  {
   "cell_type": "markdown",
   "metadata": {},
   "source": [
    "***Импортируем все необходимые модули для парсинга текстов, извлечения векторов из текста, классификаторы и метрики.***"
   ]
  },
  {
   "cell_type": "code",
   "execution_count": 17,
   "metadata": {
    "collapsed": false
   },
   "outputs": [],
   "source": [
    "from sklearn.datasets import fetch_20newsgroups\n",
    "from sklearn import metrics\n",
    "from sklearn.feature_extraction.text import TfidfVectorizer, CountVectorizer\n",
    "from sklearn.model_selection import GridSearchCV\n",
    "from sklearn.ensemble import RandomForestClassifier\n",
    "from sklearn.svm import SVC\n",
    "from sklearn.linear_model import LogisticRegression\n",
    "from sklearn.model_selection import StratifiedKFold\n",
    "from sklearn.metrics import accuracy_score\n",
    "from sklearn.metrics import classification_report, roc_auc_score, roc_curve\n",
    "from matplotlib import pyplot as plt\n",
    "import nltk\n",
    "from nltk.stem import WordNetLemmatizer\n",
    "from nltk import pos_tag\n",
    "from nltk.corpus import stopwords\n",
    "import numpy as np\n",
    "import re\n",
    "from collections import OrderedDict"
   ]
  },
  {
   "cell_type": "markdown",
   "metadata": {},
   "source": [
    "***Зададим стоп-лист***"
   ]
  },
  {
   "cell_type": "code",
   "execution_count": 5,
   "metadata": {
    "collapsed": false
   },
   "outputs": [],
   "source": [
    "ignore_symbs = [',', '-', ':', '!', ';', '(', ')', '–', '\"', '{', '}', '[', ']', '.', '?', '@',\n",
    "                '<', '>', '|', '*', '...']\n",
    "stop = set(stopwords.words('english'))\n",
    "stop.update(ignore_symbs)"
   ]
  },
  {
   "cell_type": "markdown",
   "metadata": {},
   "source": [
    "## Подготовка"
   ]
  },
  {
   "cell_type": "markdown",
   "metadata": {},
   "source": [
    "### Напишем несколько классов для подготовки текстов. Класс FinalHWData аггрегирует размеченные тексты из модуля datasets. Функция fetch_20newsgroups возвращает тексты на выбор из 20 имеющихся категорий, которые мы определим позже"
   ]
  },
  {
   "cell_type": "code",
   "execution_count": 7,
   "metadata": {
    "collapsed": true
   },
   "outputs": [],
   "source": [
    "class FinalHWData(object):\n",
    "\n",
    "    def __init__(self, categories, remove):\n",
    "        self.categories = categories\n",
    "        self.remove = remove\n",
    "        self._init_data()\n",
    "\n",
    "    def _init_data(self):\n",
    "        self.train = fetch_20newsgroups(subset='train', categories=cats,\n",
    "                                        remove=('headers', 'footers', 'quotes'))\n",
    "        self.test = fetch_20newsgroups(subset='test', categories=cats,\n",
    "                                       remove=('headers', 'footers', 'quotes'))\n",
    "        self.train_target = self.train.target\n",
    "        self.test_target = self.test.target\n",
    "\n",
    "    def get_data(self, kind):\n",
    "        if kind.lower() == 'test':\n",
    "            return self.test.data\n",
    "        elif kind.lower() == 'train':\n",
    "            return self.train.data\n",
    "    \n",
    "    def get_target(self, kind):\n",
    "        if kind.lower() == 'test':\n",
    "            return self.test.target\n",
    "        elif kind.lower() == 'train':\n",
    "            return self.train.target"
   ]
  },
  {
   "cell_type": "markdown",
   "metadata": {},
   "source": [
    "### Класс DataPreparator нормализует данные и фильтрует слова из стоп-листа"
   ]
  },
  {
   "cell_type": "code",
   "execution_count": 8,
   "metadata": {
    "collapsed": true
   },
   "outputs": [],
   "source": [
    "class DataPreparator(object):\n",
    "\n",
    "    def __init__(self):\n",
    "        self.train_normal = []\n",
    "        self.test_normal = []\n",
    "\n",
    "    def normalize(self, train, test, stop_words):\n",
    "        for text in train:\n",
    "            tokens = nltk.word_tokenize(text)\n",
    "            tokens = list(filter(lambda x: x not in stop_words, tokens))\n",
    "            wnl = WordNetLemmatizer()\n",
    "            normal_form_list = [wnl.lemmatize(i, j[0].lower()) if j[0].lower() in ['a', 'n', 'v']\n",
    "                                else wnl.lemmatize(i) for i, j in pos_tag(tokens)]\n",
    "            normal_form = ' '.join(normal_form_list)\n",
    "            normal_form = re.sub(r'\\d+', '', normal_form.replace('*', ''))\n",
    "            self.train_normal.append(normal_form)\n",
    "\n",
    "        for text in test:\n",
    "            tokens = nltk.word_tokenize(text)\n",
    "            tokens = list(filter(lambda x: x not in stop_words, tokens))\n",
    "            wnl = WordNetLemmatizer()\n",
    "            normal_form_list = [wnl.lemmatize(i, j[0].lower()) if j[0].lower() in ['a', 'n', 'v']\n",
    "                                else wnl.lemmatize(i) for i, j in pos_tag(tokens)]\n",
    "            normal_form = ' '.join(normal_form_list)\n",
    "            normal_form = re.sub(r'\\d+', '', normal_form.replace('*', ''))\n",
    "            self.test_normal.append(normal_form)\n",
    "\n",
    "    def get_data(self, kind):\n",
    "        if kind.lower() == 'train':\n",
    "            return self.train_normal\n",
    "        elif kind.lower() == 'test':\n",
    "            return self.test_normal"
   ]
  },
  {
   "cell_type": "markdown",
   "metadata": {},
   "source": [
    "### Класс ModelBuilder получает на вход количество фолдов для кросс-валидации, список моделей и параметры, после чего с помощью функции GridSearchCV из фреймворка scikit-learn выбирает по сетке параметров наилучшую модель, ориентируясь на accuracy скоринг"
   ]
  },
  {
   "cell_type": "code",
   "execution_count": 38,
   "metadata": {
    "collapsed": true
   },
   "outputs": [],
   "source": [
    "class ModelBuilder(object):\n",
    "\n",
    "    def __init__(self, cv_folds, models, models_names, param_grids):\n",
    "        self.cv_folds = cv_folds\n",
    "        self.models = models\n",
    "        self.models_names = models_names\n",
    "        self.param_grids = param_grids\n",
    "\n",
    "    def fit(self, train, target):\n",
    "        cross_validator = StratifiedKFold(n_splits=self.cv_folds, shuffle=True, random_state=0)\n",
    "        best_score = 0\n",
    "        for clf, params, name in zip(self.models, self.param_grids, self.models_names):\n",
    "            gs = GridSearchCV(estimator=clf, param_grid=params,\n",
    "                              scoring='accuracy', cv=cross_validator)\n",
    "            gs.fit(train.toarray(), target)\n",
    "            print('For {} the score is {} with parameters {}'.format(\n",
    "                name, gs.best_score_, gs.best_params_))\n",
    "            if gs.best_score_ > best_score:\n",
    "                best_score = gs.best_score_\n",
    "                best_estimator = gs.best_estimator_\n",
    "        self.estimator = best_estimator\n",
    "        print('The best estimator is {}\\nwith accuracy = {}'.format(\n",
    "            best_estimator, best_score))\n",
    "\n",
    "    def test_and_report(self, test, target):\n",
    "        pred = self.estimator.predict_proba(test.toarray())[:, 1]\n",
    "        print(classification_report(target, self.estimator.predict(test.toarray())))\n",
    "        fpr, tpr, thresholds = metrics.roc_curve(target, pred)\n",
    "        acc = metrics.accuracy_score(y_pred=self.estimator.predict(\n",
    "            test.toarray()), y_true=target)\n",
    "        plt.plot(fpr, tpr)\n",
    "        plt.xlabel('False positive rate')\n",
    "        plt.ylabel('True positive rate')\n",
    "        plt.show()\n",
    "        print('Area under ROC curve score = {}'.format(\n",
    "            roc_auc_score(target, pred)))\n",
    "        print('Accuracy = {}'.format(acc))"
   ]
  },
  {
   "cell_type": "markdown",
   "metadata": {},
   "source": [
    "***Зададим категории текстов. Выберем две категории для простоты визуализации***"
   ]
  },
  {
   "cell_type": "code",
   "execution_count": 10,
   "metadata": {
    "collapsed": true
   },
   "outputs": [],
   "source": [
    "cats=['comp.sys.mac.hardware', 'soc.religion.christian']"
   ]
  },
  {
   "cell_type": "markdown",
   "metadata": {},
   "source": [
    "***Посмотрим на первые тексты в train и test выборках.***"
   ]
  },
  {
   "cell_type": "code",
   "execution_count": 11,
   "metadata": {
    "collapsed": false
   },
   "outputs": [
    {
     "name": "stdout",
     "output_type": "stream",
     "text": [
      "\n",
      "I haven't followed whatever discussion there may have been on these\n",
      "people, but I feel that C. S. Lewis is an excellent apologist and I\n",
      "see no reason for embarrassment.  If you think that errors and flawed\n",
      "arguments are a reason for dismissing a thinker, you must dismiss\n",
      "nearly every thinker from Descartes to Kant; any philosophy course\n",
      "will introduce you to their weaknesses.  \n",
      " \n",
      "  The above also expresses a rather odd sense\n",
      "\n",
      "I said nothing about \"the masses.\"  However comparing \"the masses\" in\n",
      "our day and in Aquinas' day really *is* odd.  Read Ortega y Gasset on\n",
      "this.\n",
      "\n",
      "I'm talking about the familiar experience of arguing all night and\n",
      "winning on logic and evidence, only to discover your opponent to be\n",
      "unaware, even intuitively, of things like entailment (let alone\n",
      "pragmatics).  (I am assuming that both parties are college graduates\n",
      "or better...)  Myself, I don't bother any more.\n",
      "\n",
      "Ken\n"
     ]
    }
   ],
   "source": [
    "data_handle = FinalHWData(categories=cats, remove=('headers', 'footers', 'quotes'))\n",
    "print(data_handle.get_data(kind='train')[0])"
   ]
  },
  {
   "cell_type": "code",
   "execution_count": 12,
   "metadata": {
    "collapsed": false
   },
   "outputs": [
    {
     "name": "stdout",
     "output_type": "stream",
     "text": [
      "Hi everyone,\n",
      "\n",
      "I'm trying to find my way to God, but find it difficult as I can't hear\n",
      "God talking to me, letting me know that he exists and is with me and\n",
      "that he knows me, and I feel that I can't possibly get to know him until\n",
      "he does. Maybe he _is_ talking to me but I just don't know or understand\n",
      "how to listen.\n",
      "\n",
      "Some Christians tell me that (in their opinion) the only way to find God\n",
      "is to take a plunge and commit your life to him, and you will discover.\n",
      "This idea of diving into the totally unknown is a little bit\n",
      "frightening, but I have a few questions.\n",
      "\n",
      "1) How do you actually commit yourself? If I just say, \"OK God, her you\n",
      "go, I'm committing my life to you\", I wouldn't really feel that he'd\n",
      "listened - at least, I couldn't be sure that he had. So how does one (or\n",
      "how did you) commit oneself to God?\n",
      "\n",
      "2) In committing myself in this way, what do I have to forfeit of my\n",
      "current life? What can I no longer do? I feel that I'm as 'good' as many\n",
      "Christians, and I try to uphold the idea of 'loving your neighbour' - I\n",
      "don't go round killing people, stealing, etc., and I try not to get\n",
      "jealous of other people in any way - and I would say that I keep to the\n",
      "standards of treating other people as well as many Christians. So what\n",
      "do I have to give up?\n",
      "\n",
      "3) When committed, what do I have to do? What does it involve? What (if\n",
      "any) burdens am I taking on?\n",
      "\n",
      "4) So then, what's the general difference before and after? I assume,\n",
      "that (like on your birthday you don't suddenly feel a year older) it\n",
      "won't suddenly change my life the day I commit myself. So what happens?\n",
      "\n",
      "5) How can I be sure that it is the right thing to do? How can I find\n",
      "out what the 'it' in the last sentence actually _is_?!\n",
      "\n",
      "Thanks very much for all your help in answering these questions. Perhaps\n",
      "e-mail would be a better way to reply, but it's up to you.\n"
     ]
    }
   ],
   "source": [
    "print(data_handle.get_data(kind='test')[0])"
   ]
  },
  {
   "cell_type": "markdown",
   "metadata": {},
   "source": [
    "***Теперь необходимо выбросить из списка токенов знаки препинания, привести слова к нормальной форме и соединить их обратно в текст. Класс DataPreparator использует функцию word_tokenize из модуля nltk, разбивает текст на токены и возвращает лист. Далее лист токенов фильтруется, а класс WordNetLemmatizer приводит слова к нормальной форме. На выходе получаем листы текстов, в которых все слова приведены к нормальной форме. ***"
   ]
  },
  {
   "cell_type": "code",
   "execution_count": 13,
   "metadata": {
    "collapsed": true
   },
   "outputs": [],
   "source": [
    "preparator_handle = DataPreparator()\n",
    "preparator_handle.normalize(train=data_handle.get_data(kind='train'),\n",
    "                            test=data_handle.get_data(kind='test'),\n",
    "                            stop_words=stop)"
   ]
  },
  {
   "cell_type": "markdown",
   "metadata": {},
   "source": [
    "***Попробуем обучить классификаторы на двух векторных моделях текстов: сначала bag of words, затем tf-idf. Обучим реализации векторизаторов текстов из scikit-learn ***"
   ]
  },
  {
   "cell_type": "code",
   "execution_count": 14,
   "metadata": {
    "collapsed": true
   },
   "outputs": [],
   "source": [
    "bag_of_words = CountVectorizer(analyzer='word')\n",
    "train_bow = bag_of_words.fit_transform(preparator_handle.get_data(kind='train'))\n",
    "test_bow = bag_of_words.transform(preparator_handle.get_data(kind='test'))\n",
    "\n",
    "tf_idf = TfidfVectorizer()\n",
    "train_tfidf = tf_idf.fit_transform(preparator_handle.get_data(kind='train'))\n",
    "test_tfidf = tf_idf.transform(preparator_handle.get_data(kind='test'))"
   ]
  },
  {
   "cell_type": "markdown",
   "metadata": {},
   "source": [
    "*** Проведем несколько тестов. Сначала напишем класс, реализующий логистическую регрессию с L2 регуляризацией, и посмотрим на результаты, а затем попробуем воспользоваться более сложными алгоритмами из фреймворка scikit-learn ***"
   ]
  },
  {
   "cell_type": "code",
   "execution_count": 15,
   "metadata": {
    "collapsed": true
   },
   "outputs": [],
   "source": [
    "# Класс, реализующий логистическую регрессию с L2 регуляризацией\n",
    "\n",
    "class LogisticRegression_m(object):\n",
    "\n",
    "    def __init__(self, eta=0.1, C=0, n_iter=100, method='batch', verbose=False):\n",
    "        \"\"\" Конструктор. Параметры:\n",
    "            eta - learning rate, определяет величину шага в сторону антиградиента, вещественное число\n",
    "            C - параметр L2 регуляризации, вещественное число\n",
    "            n_iter - число итераций по данным, целое число\n",
    "            method - возможные значения: batch, mini-batch, stoch. Тип градиентного спуска.\n",
    "            verbose - использовать для отладки и мониторинга сходимости \"\"\"\n",
    "        self.eta_ = eta\n",
    "        self.n_iter_ = n_iter\n",
    "        self.C_ = C\n",
    "        self.method_ = method\n",
    "\n",
    "    def fit(self, X, y):\n",
    "        \"\"\" Функция обучения регрессии. Параметры:\n",
    "            X - numpy array-like массив. В строках наблюдения, в столбцах пременные\n",
    "            y - вектор ответов \"\"\"\n",
    "        self.all_w_ = np.zeros((np.unique(y).size, X.shape[1] + 1))\n",
    "        self.num_labels = np.unique(y).size\n",
    "\n",
    "        if self.method_ == 'batch':\n",
    "            self._batch_grad(X, y)\n",
    "        if self.method_ == 'stoch':\n",
    "            self._stoch_grad(X, y)\n",
    "        if self.method_ == 'mini-batch':\n",
    "            self._minibatch_grad(X, y)\n",
    "        return self\n",
    "\n",
    "    def _batch_grad(self, X, y):\n",
    "        \"\"\" Реализация т.н. batch градиентного спуска. Функция n_iter раз проходит по всему датасету,\n",
    "            каждый раз вызывая один шаг спуска \"\"\"\n",
    "        for i in range(self.n_iter_):\n",
    "            self._batch_step(X, y)\n",
    "\n",
    "    def _batch_step(self, X, y):\n",
    "        \"\"\" Шаг batch градиентного спуска \"\"\"\n",
    "        self._one_v_rest(X, y)\n",
    "\n",
    "    def _one_v_rest(self, X, y):\n",
    "        \"\"\" Реализация поддержки многоклассовой задачи методом one vs rest \"\"\"\n",
    "        for c in np.unique(y):\n",
    "            y_ovr = np.where(y == c, 1, 0)\n",
    "            error = y_ovr - self.sigmoid(X, c)\n",
    "            self.all_w_[c, 0] += self.eta_ * error.sum() - self.eta_ * \\\n",
    "                self.C_ * self.all_w_[c, 0]\n",
    "            self.all_w_[c, 1:] += self.eta_ * X.T @ error - \\\n",
    "                self.eta_ * self.C_ * self.all_w_[c, 1:]\n",
    "\n",
    "    def _stoch_grad(self, X, y):\n",
    "        \"\"\" Реализация стохастического градиентного спуска. Рекомендуется при большом количестве данных. \"\"\"\n",
    "        for i in range(self.n_iter_):\n",
    "            self._stoch_step(X, y)\n",
    "\n",
    "    def _stoch_step(self, X, y):\n",
    "        \"\"\" Реализация шага стохастического градиентного спуска \"\"\"\n",
    "        rand_indices = np.random.permutation(y.size)\n",
    "        rand_choice = np.random.randint(0, y.size)\n",
    "        sample = X[rand_indices, :][rand_choice, :]\n",
    "\n",
    "        error = y[rand_indices][rand_choice] - self.sigmoid(sample)\n",
    "        self.w_[0] += self.eta_ * error - self.eta_ * self.C_ * self.w_[0]\n",
    "        self.w_[1:] += self.eta_ * sample * \\\n",
    "            error - self.eta_ * self.C_ * self.w_[1:]\n",
    "        self.errors_.append(self.logit_loss(\n",
    "            sample, y[rand_indices][rand_choice]))\n",
    "\n",
    "    def sigmoid(self, X, c):\n",
    "        \"\"\" Функция связи логистической регрессии \"\"\"\n",
    "        z = self.net_input(X, c)\n",
    "        return (1 / (1 + np.exp(-z)))\n",
    "\n",
    "    def net_input(self, X, c):\n",
    "        \"\"\" Скалярное произведение полученных после обучения весов и переменных наблюдения \"\"\"\n",
    "        return (X @ self.all_w_[c, 1:] + self.all_w_[c, 0])\n",
    "\n",
    "    def logit_loss(self, X, y):\n",
    "        \"\"\" Кросс-энтропия, целевая функция \"\"\"\n",
    "        return -(y * np.log(self.sigmoid(X)) + (1 - y) *\n",
    "                 np.log(1 - self.sigmoid(X))).sum()\n",
    "\n",
    "    def predict(self, X):\n",
    "        \"\"\" Возвращает ответы \"\"\"\n",
    "        probas = self._predict_one_v_rest(X)\n",
    "        return np.argmax(probas, axis=1)\n",
    "\n",
    "    def predict_proba(self, X):\n",
    "        \"\"\" Возвращает вероятности ответов \"\"\"\n",
    "        return self._predict_one_v_rest(X)\n",
    "\n",
    "    def _predict_one_v_rest(self, X):\n",
    "        \"\"\" Реализация для поддержки многоклассовой задачи методом one vs rest \"\"\"\n",
    "        probas = np.zeros((X.shape[0], self.num_labels))\n",
    "        for c in range(self.num_labels):\n",
    "            probas[:, c] = self.sigmoid(X, c)\n",
    "        return probas"
   ]
  },
  {
   "cell_type": "markdown",
   "metadata": {},
   "source": [
    "***Обучим регрессию и проверим на тестовых данных. Тест без регуляризации, модель Bag of words***"
   ]
  },
  {
   "cell_type": "code",
   "execution_count": 22,
   "metadata": {
    "collapsed": false
   },
   "outputs": [
    {
     "name": "stderr",
     "output_type": "stream",
     "text": [
      "/usr/local/lib/python3.5/site-packages/ipykernel/__main__.py:70: RuntimeWarning: overflow encountered in exp\n"
     ]
    },
    {
     "data": {
      "image/png": "[encoded data removed]",
      "text/plain": [
       "<matplotlib.figure.Figure at 0x1137f8b70>"
      ]
     },
     "metadata": {},
     "output_type": "display_data"
    },
    {
     "name": "stdout",
     "output_type": "stream",
     "text": [
      "Area under ROC curve score = 0.9922665274424068\n",
      "Accuracy = 0.946360153256705\n"
     ]
    }
   ],
   "source": [
    "lrm = LogisticRegression_m(n_iter=100)\n",
    "lrm.fit(train_bow, data_handle.get_target(kind='train'))\n",
    "predi = lrm.predict_proba(test_bow)\n",
    "fpr, tpr, thresholds = metrics.roc_curve(data_handle.get_target(kind='test'), predi[:, 1])\n",
    "acc = metrics.accuracy_score(y_pred=lrm.predict(test_bow.toarray()), y_true=data_handle.get_target(kind='test'))\n",
    "plt.plot(fpr, tpr)\n",
    "plt.xlabel('False positive rate')\n",
    "plt.ylabel('True positive rate')\n",
    "plt.title('Receiver operating characteristic curve')\n",
    "plt.show()\n",
    "print('Area under ROC curve score = {}'.format(roc_auc_score(data_handle.get_target(kind='test'), predi[:,1])))\n",
    "print('Accuracy = {}'.format(acc))"
   ]
  },
  {
   "cell_type": "code",
   "execution_count": 23,
   "metadata": {
    "collapsed": false
   },
   "outputs": [
    {
     "name": "stderr",
     "output_type": "stream",
     "text": [
      "/usr/local/lib/python3.5/site-packages/ipykernel/__main__.py:70: RuntimeWarning: overflow encountered in exp\n"
     ]
    },
    {
     "data": {
      "image/png": "[encoded data removed]",
      "text/plain": [
       "<matplotlib.figure.Figure at 0x118a663c8>"
      ]
     },
     "metadata": {},
     "output_type": "display_data"
    },
    {
     "name": "stdout",
     "output_type": "stream",
     "text": [
      "Area under ROC curve score = 0.9922665274424068\n",
      "Accuracy = 0.9514687100893997\n"
     ]
    }
   ],
   "source": [
    "lrm = LogisticRegression_m(C=0.1, n_iter=100)\n",
    "lrm.fit(train_bow, data_handle.get_target(kind='train'))\n",
    "predi = lrm.predict_proba(test_bow)\n",
    "fpr, tpr, thresholds = metrics.roc_curve(data_handle.get_target(kind='test'), predi[:, 1])\n",
    "acc = metrics.accuracy_score(y_pred=lrm.predict(test_bow.toarray()), y_true=data_handle.get_target(kind='test'))\n",
    "plt.plot(fpr, tpr)\n",
    "plt.xlabel('False positive rate')\n",
    "plt.ylabel('True positive rate')\n",
    "plt.title('Receiver operating characteristic curve')\n",
    "plt.show()\n",
    "print('Area under ROC curve score = {}'.format(roc_auc_score(data_handle.get_target(kind='test'), predi[:,1])))\n",
    "print('Accuracy = {}'.format(acc))"
   ]
  },
  {
   "cell_type": "markdown",
   "metadata": {},
   "source": [
    "*** Простая логистическая регрессия показывает на тестовых данных отличные значения ROC AUC и Accuracy, с точки зрения Accuracy регрессия со слабой регуляризацией справляется лучше ***"
   ]
  },
  {
   "cell_type": "markdown",
   "metadata": {},
   "source": [
    "*** Те же тесты, модель Tf-idf *** "
   ]
  },
  {
   "cell_type": "code",
   "execution_count": 24,
   "metadata": {
    "collapsed": false
   },
   "outputs": [
    {
     "data": {
      "image/png": "[encoded data removed]",
      "text/plain": [
       "<matplotlib.figure.Figure at 0x113810208>"
      ]
     },
     "metadata": {},
     "output_type": "display_data"
    },
    {
     "name": "stdout",
     "output_type": "stream",
     "text": [
      "Area under ROC curve score = 0.9945310970436598\n",
      "Accuracy = 0.9565772669220945\n"
     ]
    }
   ],
   "source": [
    "lrm = LogisticRegression_m(n_iter=100)\n",
    "lrm.fit(train_tfidf, data_handle.get_target(kind='train'))\n",
    "predi = lrm.predict_proba(test_tfidf)\n",
    "fpr, tpr, thresholds = metrics.roc_curve(data_handle.get_target(kind='test'), predi[:, 1])\n",
    "acc = metrics.accuracy_score(y_pred=lrm.predict(test_tfidf.toarray()), y_true=data_handle.get_target(kind='test'))\n",
    "plt.plot(fpr, tpr)\n",
    "plt.xlabel('False positive rate')\n",
    "plt.ylabel('True positive rate')\n",
    "plt.title('Receiver operating characteristic curve')\n",
    "plt.show()\n",
    "print('Area under ROC curve score = {}'.format(roc_auc_score(data_handle.get_target(kind='test'), predi[:,1])))\n",
    "print('Accuracy = {}'.format(acc))"
   ]
  },
  {
   "cell_type": "code",
   "execution_count": 25,
   "metadata": {
    "collapsed": false
   },
   "outputs": [
    {
     "data": {
      "image/png": "[encoded data removed]",
      "text/plain": [
       "<matplotlib.figure.Figure at 0x113884dd8>"
      ]
     },
     "metadata": {},
     "output_type": "display_data"
    },
    {
     "name": "stdout",
     "output_type": "stream",
     "text": [
      "Area under ROC curve score = 0.9945898322782745\n",
      "Accuracy = 0.9629629629629629\n"
     ]
    }
   ],
   "source": [
    "lrm = LogisticRegression_m(C=0.1, n_iter=100)\n",
    "lrm.fit(train_tfidf, data_handle.get_target(kind='train'))\n",
    "predi = lrm.predict_proba(test_tfidf)\n",
    "fpr, tpr, thresholds = metrics.roc_curve(data_handle.get_target(kind='test'), predi[:, 1])\n",
    "acc = metrics.accuracy_score(y_pred=lrm.predict(test_tfidf.toarray()), y_true=data_handle.get_target(kind='test'))\n",
    "plt.plot(fpr, tpr)\n",
    "plt.xlabel('False positive rate')\n",
    "plt.ylabel('True positive rate')\n",
    "plt.title('Receiver operating characteristic curve')\n",
    "plt.show()\n",
    "print('Area under ROC curve score = {}'.format(roc_auc_score(data_handle.get_target(kind='test'), predi[:,1])))\n",
    "print('Accuracy = {}'.format(acc))"
   ]
  },
  {
   "cell_type": "markdown",
   "metadata": {},
   "source": [
    "*** Все метрики выше на модели tf-idf. Теперь обучим ряд классификаторов из фреймворка scikit-learn. Зададим ниже список моделей и сетки параметров для поиска наилучшей модели. Примечание: GridSearchCV, использующаяся в написанном выше классе ModelBuilder автоматически выполняет выбор модели с помощью кросс-валидации на K фолдов***"
   ]
  },
  {
   "cell_type": "code",
   "execution_count": 27,
   "metadata": {
    "collapsed": false
   },
   "outputs": [],
   "source": [
    "# Воспользуемся реализациями Logistic Regression, Random Forest Classifier и Support Vector Machines\n",
    "models = [LogisticRegression(), RandomForestClassifier(), SVC()]\n",
    "models_names = ['Logistic Regression', 'Random Forest', 'Support Vector Machines']\n",
    "param_grids = [{'C': [10**x for x in range(-3, 2)], 'class_weight': [None, 'balanced'], 'random_state': [0]},\n",
    "               {'n_estimators': [100, 200, 300], 'max_depth': [5, 8, None],\n",
    "                'class_weight': [None, 'balanced'], 'random_state': [0]},\n",
    "                {'C': [1, 10], 'probability': [True], 'decision_function_shape': ['ovr'],\n",
    "                 'random_state': [0]}]"
   ]
  },
  {
   "cell_type": "markdown",
   "metadata": {},
   "source": [
    "*** Сначала bag of words ***"
   ]
  },
  {
   "cell_type": "code",
   "execution_count": 39,
   "metadata": {
    "collapsed": false
   },
   "outputs": [
    {
     "name": "stdout",
     "output_type": "stream",
     "text": [
      "For Logistic Regression the score is 0.9532710280373832 with parameters {'random_state': 0, 'C': 0.001, 'class_weight': None}\n",
      "For Random Forest the score is 0.9507221750212405 with parameters {'n_estimators': 300, 'random_state': 0, 'max_depth': None, 'class_weight': None}\n",
      "For Support Vector Machines the score is 0.8343245539507221 with parameters {'random_state': 0, 'C': 10, 'probability': True, 'decision_function_shape': 'ovr'}\n",
      "The best estimator is LogisticRegression(C=0.001, class_weight=None, dual=False, fit_intercept=True,\n",
      "          intercept_scaling=1, max_iter=100, multi_class='ovr', n_jobs=1,\n",
      "          penalty='l2', random_state=0, solver='liblinear', tol=0.0001,\n",
      "          verbose=0, warm_start=False)\n",
      "with accuracy = 0.9532710280373832\n",
      "             precision    recall  f1-score   support\n",
      "\n",
      "          0       0.90      0.97      0.94       385\n",
      "          1       0.97      0.89      0.93       398\n",
      "\n",
      "avg / total       0.94      0.93      0.93       783\n",
      "\n"
     ]
    },
    {
     "data": {
      "image/png": "[encoded data removed]",
      "text/plain": [
       "<matplotlib.figure.Figure at 0x1137619e8>"
      ]
     },
     "metadata": {},
     "output_type": "display_data"
    },
    {
     "name": "stdout",
     "output_type": "stream",
     "text": [
      "Area under ROC curve score = 0.9888859883834757\n",
      "Accuracy = 0.933588761174968\n"
     ]
    }
   ],
   "source": [
    "builder = ModelBuilder(cv_folds=10, models=models, models_names=models_names, param_grids=param_grids)\n",
    "builder.fit(train=train_bow, target=data_handle.get_target(kind='train'))\n",
    "builder.test_and_report(test=test_bow, target=data_handle.get_target(kind='test'))"
   ]
  },
  {
   "cell_type": "markdown",
   "metadata": {},
   "source": [
    "***Теперь tf-idf***"
   ]
  },
  {
   "cell_type": "code",
   "execution_count": 41,
   "metadata": {
    "collapsed": false
   },
   "outputs": [
    {
     "name": "stdout",
     "output_type": "stream",
     "text": [
      "For Logistic Regression the score is 0.9719626168224299 with parameters {'random_state': 0, 'C': 10, 'class_weight': None}\n",
      "For Random Forest the score is 0.9490229396771452 with parameters {'n_estimators': 300, 'random_state': 0, 'max_depth': None, 'class_weight': None}\n",
      "The best estimator is LogisticRegression(C=10, class_weight=None, dual=False, fit_intercept=True,\n",
      "          intercept_scaling=1, max_iter=100, multi_class='ovr', n_jobs=1,\n",
      "          penalty='l2', random_state=0, solver='liblinear', tol=0.0001,\n",
      "          verbose=0, warm_start=False)\n",
      "with accuracy = 0.9719626168224299\n",
      "             precision    recall  f1-score   support\n",
      "\n",
      "          0       0.93      0.99      0.96       385\n",
      "          1       0.99      0.93      0.96       398\n",
      "\n",
      "avg / total       0.96      0.96      0.96       783\n",
      "\n"
     ]
    },
    {
     "data": {
      "image/png": "[encoded data removed]",
      "text/plain": [
       "<matplotlib.figure.Figure at 0x118e03710>"
      ]
     },
     "metadata": {},
     "output_type": "display_data"
    },
    {
     "name": "stdout",
     "output_type": "stream",
     "text": [
      "Area under ROC curve score = 0.994824773216733\n",
      "Accuracy = 0.9604086845466155\n"
     ]
    }
   ],
   "source": [
    "builder = ModelBuilder(cv_folds=10, models=models[0:2], models_names=models_names[0:2], param_grids=param_grids[0:2])\n",
    "builder.fit(train=train_tfidf, target=data_handle.get_target(kind='train'))\n",
    "builder.test_and_report(test=test_tfidf, target=data_handle.get_target(kind='test'))"
   ]
  },
  {
   "cell_type": "markdown",
   "metadata": {},
   "source": [
    "*** Тесты показывают, что логистическая регрессия со слабой регуляризацией хорошо справляется с классификацией текстов данных двух тематик. Использование более сложной векторной модели tf-idf улучшает точность прогноза ***"
   ]
  }
 ],
 "metadata": {
  "kernelspec": {
   "display_name": "Python 3",
   "language": "python",
   "name": "python3"
  },
  "language_info": {
   "codemirror_mode": {
    "name": "ipython",
    "version": 3
   },
   "file_extension": ".py",
   "mimetype": "text/x-python",
   "name": "python",
   "nbconvert_exporter": "python",
   "pygments_lexer": "ipython3",
   "version": "3.5.2"
  }
 },
 "nbformat": 4,
 "nbformat_minor": 1
}
