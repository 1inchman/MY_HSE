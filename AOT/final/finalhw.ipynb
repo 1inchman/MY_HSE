{
 "cells": [
  {
   "cell_type": "markdown",
   "metadata": {},
   "source": [
    "# Итоговое задание по курсу АОТ"
   ]
  },
  {
   "cell_type": "markdown",
   "metadata": {},
   "source": [
    "### Язык программирования python3 (задание E, пункт 2: тематическая классификация на основе векторной модели текста)"
   ]
  },
  {
   "cell_type": "markdown",
   "metadata": {},
   "source": [
    "***Импортируем все необходимые модули для парсинга текстов, извлечения векторов из текста, классификаторы и метрики.***"
   ]
  },
  {
   "cell_type": "code",
   "execution_count": 136,
   "metadata": {
    "collapsed": false
   },
   "outputs": [],
   "source": [
    "from sklearn.datasets import fetch_20newsgroups\n",
    "from sklearn import metrics\n",
    "from sklearn.feature_extraction.text import TfidfVectorizer, CountVectorizer\n",
    "from sklearn.model_selection import GridSearchCV\n",
    "from sklearn.ensemble import RandomForestClassifier, GradientBoostingClassifier\n",
    "from sklearn.linear_model import LogisticRegression\n",
    "from sklearn.cross_validation import StratifiedKFold\n",
    "from sklearn.metrics import accuracy_score\n",
    "import nltk\n",
    "from nltk.stem import WordNetLemmatizer\n",
    "from nltk import pos_tag\n",
    "import pandas as pd\n",
    "import numpy as np\n",
    "import re"
   ]
  },
  {
   "cell_type": "markdown",
   "metadata": {},
   "source": [
    "***Вынесем нерелевантные токены в лист.***"
   ]
  },
  {
   "cell_type": "code",
   "execution_count": 90,
   "metadata": {
    "collapsed": true
   },
   "outputs": [],
   "source": [
    "ignore_symbs = [',', '-', ':', '!', ';', '(', ')', '–', '\"', '{', '}', '[', ']', '.', '?', '@',\n",
    "                '<', '>', '|', '*', '...']"
   ]
  },
  {
   "cell_type": "markdown",
   "metadata": {},
   "source": [
    "***Воспользуемся размеченной выборкой текстов из модуля scikit-learn.datasets. Модуль содержит размеченные выборки текстов на 20 тематик. Выберем две темы для простоты визуализации: компьютерное железо и религия . Запишем эти сырые тексты в два листа – train и test. ***"
   ]
  },
  {
   "cell_type": "code",
   "execution_count": 91,
   "metadata": {
    "collapsed": false
   },
   "outputs": [],
   "source": [
    "cats=['comp.sys.mac.hardware', 'soc.religion.christian']\n",
    "train = fetch_20newsgroups(subset='train', categories=cats, remove=('headers', 'footers', 'quotes'))\n",
    "test = fetch_20newsgroups(subset='test', categories=cats, remove=('headers', 'footers', 'quotes'))\n",
    "train_target = train.target\n",
    "test_target = test.target"
   ]
  },
  {
   "cell_type": "markdown",
   "metadata": {},
   "source": [
    "***Посмотрим на первые тексты в train и test выборках.***"
   ]
  },
  {
   "cell_type": "code",
   "execution_count": 29,
   "metadata": {
    "collapsed": false
   },
   "outputs": [
    {
     "name": "stdout",
     "output_type": "stream",
     "text": [
      "\n",
      "I haven't followed whatever discussion there may have been on these\n",
      "people, but I feel that C. S. Lewis is an excellent apologist and I\n",
      "see no reason for embarrassment.  If you think that errors and flawed\n",
      "arguments are a reason for dismissing a thinker, you must dismiss\n",
      "nearly every thinker from Descartes to Kant; any philosophy course\n",
      "will introduce you to their weaknesses.  \n",
      " \n",
      "  The above also expresses a rather odd sense\n",
      "\n",
      "I said nothing about \"the masses.\"  However comparing \"the masses\" in\n",
      "our day and in Aquinas' day really *is* odd.  Read Ortega y Gasset on\n",
      "this.\n",
      "\n",
      "I'm talking about the familiar experience of arguing all night and\n",
      "winning on logic and evidence, only to discover your opponent to be\n",
      "unaware, even intuitively, of things like entailment (let alone\n",
      "pragmatics).  (I am assuming that both parties are college graduates\n",
      "or better...)  Myself, I don't bother any more.\n",
      "\n",
      "Ken\n"
     ]
    }
   ],
   "source": [
    "print(train.data[0])"
   ]
  },
  {
   "cell_type": "code",
   "execution_count": 30,
   "metadata": {
    "collapsed": false
   },
   "outputs": [
    {
     "name": "stdout",
     "output_type": "stream",
     "text": [
      "Hi everyone,\n",
      "\n",
      "I'm trying to find my way to God, but find it difficult as I can't hear\n",
      "God talking to me, letting me know that he exists and is with me and\n",
      "that he knows me, and I feel that I can't possibly get to know him until\n",
      "he does. Maybe he _is_ talking to me but I just don't know or understand\n",
      "how to listen.\n",
      "\n",
      "Some Christians tell me that (in their opinion) the only way to find God\n",
      "is to take a plunge and commit your life to him, and you will discover.\n",
      "This idea of diving into the totally unknown is a little bit\n",
      "frightening, but I have a few questions.\n",
      "\n",
      "1) How do you actually commit yourself? If I just say, \"OK God, her you\n",
      "go, I'm committing my life to you\", I wouldn't really feel that he'd\n",
      "listened - at least, I couldn't be sure that he had. So how does one (or\n",
      "how did you) commit oneself to God?\n",
      "\n",
      "2) In committing myself in this way, what do I have to forfeit of my\n",
      "current life? What can I no longer do? I feel that I'm as 'good' as many\n",
      "Christians, and I try to uphold the idea of 'loving your neighbour' - I\n",
      "don't go round killing people, stealing, etc., and I try not to get\n",
      "jealous of other people in any way - and I would say that I keep to the\n",
      "standards of treating other people as well as many Christians. So what\n",
      "do I have to give up?\n",
      "\n",
      "3) When committed, what do I have to do? What does it involve? What (if\n",
      "any) burdens am I taking on?\n",
      "\n",
      "4) So then, what's the general difference before and after? I assume,\n",
      "that (like on your birthday you don't suddenly feel a year older) it\n",
      "won't suddenly change my life the day I commit myself. So what happens?\n",
      "\n",
      "5) How can I be sure that it is the right thing to do? How can I find\n",
      "out what the 'it' in the last sentence actually _is_?!\n",
      "\n",
      "Thanks very much for all your help in answering these questions. Perhaps\n",
      "e-mail would be a better way to reply, but it's up to you.\n"
     ]
    }
   ],
   "source": [
    "print(test.data[0])"
   ]
  },
  {
   "cell_type": "markdown",
   "metadata": {},
   "source": [
    "***Теперь необходимо выбросить из списка токенов знаки препинания, привести слова к нормальной форме и соединить их обратно в текст. Класс word_tokenize из модуля nltk разбивает текст на токены и возвращает лист. Далее лист токенов фильтруется, а класс WordNetLemmatizer приводит слова к нормальной форме. На выходе получаем листы текстов, в которых все слова приведены к нормальной форме. Здесь не используется список стоп-слов, так как в векторизаторах scikit-learn встроен фильтр стоп-слов. ***"
   ]
  },
  {
   "cell_type": "code",
   "execution_count": 92,
   "metadata": {
    "collapsed": false
   },
   "outputs": [],
   "source": [
    "train_normal = []\n",
    "test_normal = []\n",
    "for text in train.data:\n",
    "    tokens = nltk.word_tokenize(text)\n",
    "    tokens = list(filter(lambda x: x not in ignore_symbs, tokens))\n",
    "    wnl = WordNetLemmatizer()\n",
    "    normal_form_list = [wnl.lemmatize(i,j[0].lower()) if j[0].lower() in ['a','n','v'] \n",
    "                   else wnl.lemmatize(i) for i,j in pos_tag(tokens)]\n",
    "    normal_form = ' '.join(normal_form_list)\n",
    "    normal_form = re.sub(r'\\d+', '', normal_form.replace('*', ''))\n",
    "    train_normal.append(normal_form)\n",
    "    \n",
    "for text in test.data:\n",
    "    tokens = nltk.word_tokenize(text)\n",
    "    tokens = list(filter(lambda x: x not in ignore_symbs, tokens))\n",
    "    wnl = WordNetLemmatizer()\n",
    "    normal_form_list = [wnl.lemmatize(i,j[0].lower()) if j[0].lower() in ['a','n','v'] \n",
    "                   else wnl.lemmatize(i) for i,j in pos_tag(tokens)]\n",
    "    normal_form = ' '.join(normal_form_list)\n",
    "    normal_form = re.sub(r'\\d+', '', normal_form.replace('*', ''))\n",
    "    test_normal.append(normal_form)"
   ]
  },
  {
   "cell_type": "markdown",
   "metadata": {},
   "source": [
    "*** Попробуем две векторные модели текста ***"
   ]
  },
  {
   "cell_type": "markdown",
   "metadata": {},
   "source": [
    "*** I. Bag of words ***"
   ]
  },
  {
   "cell_type": "code",
   "execution_count": 142,
   "metadata": {
    "collapsed": false
   },
   "outputs": [],
   "source": [
    "vectorizer = CountVectorizer(analyzer='word')\n",
    "train_vectorized = vectorizer.fit_transform(train_normal)\n",
    "test_vectorized = vectorizer.transform(test_normal)"
   ]
  },
  {
   "cell_type": "markdown",
   "metadata": {},
   "source": [
    "Построим несколько моделей и посмотрим, как они себя покажут на тестовом множестве. Зададим итератор разбиений для кросс-валидации на 10 фолдов, зададим список моделей и будем искать оптимальные гиперпараметры по сетке."
   ]
  },
  {
   "cell_type": "code",
   "execution_count": 143,
   "metadata": {
    "collapsed": false
   },
   "outputs": [
    {
     "name": "stdout",
     "output_type": "stream",
     "text": [
      "For Logistic Regression the score is 0.9507221750212405 with parameters {'random_state': 0, 'C': 10, 'class_weight': None}\n",
      "For Random Forest the score is 0.9252336448598131 with parameters {'n_estimators': 300, 'random_state': 0, 'max_depth': None, 'class_weight': 'balanced'}\n",
      "For Gradient Boosting the score is 0.9362786745964317 with parameters {'n_estimators': 150, 'random_state': 0, 'max_depth': 3}\n",
      "The best estimator is LogisticRegression(C=10, class_weight=None, dual=False, fit_intercept=True,\n",
      "          intercept_scaling=1, max_iter=100, multi_class='ovr', n_jobs=1,\n",
      "          penalty='l2', random_state=0, solver='liblinear', tol=0.0001,\n",
      "          verbose=0, warm_start=False)\n",
      "with accuracy = 0.9507221750212405\n"
     ]
    }
   ],
   "source": [
    "cross_validator = StratifiedKFold(y=train_target, n_folds=10, shuffle=True, random_state=0)\n",
    "models = [LogisticRegression(), RandomForestClassifier(), GradientBoostingClassifier()]\n",
    "models_names = ['Logistic Regression', 'Random Forest', 'Gradient Boosting']\n",
    "best_score_bow = 0\n",
    "param_grids = [{'C': [10**x for x in range(-3, 2)], 'class_weight': [None, 'balanced'], 'random_state': [0]},\n",
    "               {'n_estimators': [100, 200, 300], 'max_depth': [5, 8, None],\n",
    "                'class_weight': [None, 'balanced'], 'random_state': [0]},\n",
    "                {'max_depth': [3], 'n_estimators': [100, 150],\n",
    "                 'random_state': [0]}]\n",
    "for clf, params, name in zip(models, param_grids, models_names):\n",
    "    gs = GridSearchCV(estimator=clf, param_grid=params, scoring='accuracy', cv=cross_validator)\n",
    "    gs.fit(train_vectorized.toarray(), train_target)\n",
    "    print('For {} the score is {} with parameters {}'.format(name, gs.best_score_, gs.best_params_))\n",
    "    if gs.best_score_ > best_score_bow:\n",
    "        best_score_bow = gs.best_score_\n",
    "        best_estimator_bow = gs.best_estimator_\n",
    "\n",
    "print('The best estimator is {}\\nwith accuracy = {}'.format(best_estimator_bow, best_score_bow))"
   ]
  },
  {
   "cell_type": "markdown",
   "metadata": {},
   "source": [
    "*** Среднее по валидационным разбиениям показывает хорошие результаты на всех алгоритмах, выберем логистическую регрессию, как алгоритм с самым высоким средним значением accuracy. Проверим теперь этот алгоритм на тестовой выборке. ***"
   ]
  },
  {
   "cell_type": "code",
   "execution_count": 146,
   "metadata": {
    "collapsed": false
   },
   "outputs": [
    {
     "name": "stdout",
     "output_type": "stream",
     "text": [
      "             precision    recall  f1-score   support\n",
      "\n",
      "          0       0.92      0.97      0.94       385\n",
      "          1       0.97      0.91      0.94       398\n",
      "\n",
      "avg / total       0.94      0.94      0.94       783\n",
      "\n"
     ]
    },
    {
     "data": {
      "image/png": "[encoded data removed]",
      "text/plain": [
       "<matplotlib.figure.Figure at 0x10ec315f8>"
      ]
     },
     "metadata": {},
     "output_type": "display_data"
    },
    {
     "name": "stdout",
     "output_type": "stream",
     "text": [
      "Area under ROC curve score = 0.9900345885270507\n",
      "Accuracy = 0.9399744572158365\n"
     ]
    }
   ],
   "source": [
    "from sklearn.metrics import classification_report, roc_auc_score, roc_curve\n",
    "from matplotlib import pyplot as plt\n",
    "pred = best_estimator_bow.predict_proba(test_vectorized.toarray())[:,1]\n",
    "print(classification_report(test_target, best_estimator_bow.predict(test_vectorized.toarray())))\n",
    "fpr, tpr, thresholds = metrics.roc_curve(test_target, pred)\n",
    "acc = metrics.accuracy_score(y_pred=best_estimator_bow.predict(test_vectorized.toarray()), y_true=test_target)\n",
    "plt.plot(fpr, tpr)\n",
    "plt.xlabel('False positive rate')\n",
    "plt.ylabel('True positive rate')\n",
    "plt.show()\n",
    "print('Area under ROC curve score = {}'.format(roc_auc_score(test_target, pred)))\n",
    "print('Accuracy = {}'.format(acc))"
   ]
  },
  {
   "cell_type": "markdown",
   "metadata": {},
   "source": [
    "*** II. a) TF-IDF ***"
   ]
  },
  {
   "cell_type": "code",
   "execution_count": 147,
   "metadata": {
    "collapsed": true
   },
   "outputs": [],
   "source": [
    "vectorizer_tfidf = TfidfVectorizer()\n",
    "train_tfidf = vectorizer_tfidf.fit_transform(train_normal)\n",
    "test_tfidf = vectorizer_tfidf.transform(test_normal)"
   ]
  },
  {
   "cell_type": "markdown",
   "metadata": {},
   "source": [
    "Повторим шаг с выбором моделей"
   ]
  },
  {
   "cell_type": "code",
   "execution_count": 148,
   "metadata": {
    "collapsed": false
   },
   "outputs": [
    {
     "name": "stdout",
     "output_type": "stream",
     "text": [
      "For Logistic Regression the score is 0.9668649107901445 with parameters {'random_state': 1, 'C': 10, 'class_weight': None}\n",
      "For Random Forest the score is 0.9668649107901445 with parameters {'n_estimators': 100, 'random_state': 0, 'max_depth': None, 'class_weight': 'balanced'}\n",
      "For Gradient Boosting the score is 0.9668649107901445 with parameters {'n_estimators': 150, 'random_state': 0, 'max_depth': 3}\n",
      "The best estimator is LogisticRegression(C=10, class_weight=None, dual=False, fit_intercept=True,\n",
      "          intercept_scaling=1, max_iter=100, multi_class='ovr', n_jobs=1,\n",
      "          penalty='l2', random_state=1, solver='liblinear', tol=0.0001,\n",
      "          verbose=0, warm_start=False)\n",
      "with accuracy = 0.9668649107901445\n"
     ]
    }
   ],
   "source": [
    "cross_validator = StratifiedKFold(y=train_target, n_folds=10, shuffle=True, random_state=0)\n",
    "models = [LogisticRegression(), RandomForestClassifier(), GradientBoostingClassifier()]\n",
    "models_names = ['Logistic Regression', 'Random Forest', 'Gradient Boosting']\n",
    "best_score_tfidf = 0\n",
    "param_grids = [{'C': [10**x for x in range(-3, 2)], 'class_weight': [None, 'balanced'], 'random_state': [1]},\n",
    "               {'n_estimators': [100, 200, 300], 'max_depth': [5, 8, None],\n",
    "                'class_weight': [None, 'balanced'], 'random_state': [0]},\n",
    "                {'max_depth': [3], 'n_estimators': [100, 150],\n",
    "                 'random_state': [0]}]\n",
    "for clf, params, name in zip(models, param_grids, models_names):\n",
    "    gs = GridSearchCV(estimator=clf, param_grid=params, scoring='accuracy', cv=cross_validator)\n",
    "    gs.fit(train_tfidf.toarray(), train_target)\n",
    "    if gs.best_score_ > best_score_tfidf:\n",
    "        best_score_tfidf = gs.best_score_\n",
    "        best_estimator_tfidf = gs.best_estimator_\n",
    "    print('For {} the score is {} with parameters {}'.format(name, best_score_tfidf, gs.best_params_))\n",
    "\n",
    "\n",
    "print('The best estimator is {}\\nwith accuracy = {}'.format(best_estimator_tfidf, best_score_tfidf))"
   ]
  },
  {
   "cell_type": "code",
   "execution_count": 149,
   "metadata": {
    "collapsed": false
   },
   "outputs": [
    {
     "name": "stdout",
     "output_type": "stream",
     "text": [
      "             precision    recall  f1-score   support\n",
      "\n",
      "          0       0.94      0.98      0.96       385\n",
      "          1       0.98      0.94      0.96       398\n",
      "\n",
      "avg / total       0.96      0.96      0.96       783\n",
      "\n"
     ]
    },
    {
     "data": {
      "image/png": "[encoded data removed]",
      "text/plain": [
       "<matplotlib.figure.Figure at 0x114e9aa20>"
      ]
     },
     "metadata": {},
     "output_type": "display_data"
    },
    {
     "name": "stdout",
     "output_type": "stream",
     "text": [
      "Area under ROC curve score = 0.9931149252757294\n",
      "Accuracy = 0.9616858237547893\n"
     ]
    }
   ],
   "source": [
    "pred = best_estimator_tfidf.predict_proba(test_tfidf.toarray())[:,1]\n",
    "print(classification_report(test_target, best_estimator_tfidf.predict(test_tfidf.toarray())))\n",
    "fpr, tpr, thresholds = metrics.roc_curve(test_target, pred)\n",
    "acc = metrics.accuracy_score(y_pred=best_estimator_tfidf.predict(test_tfidf.toarray()), y_true=test_target)\n",
    "plt.plot(fpr, tpr)\n",
    "plt.xlabel('False positive rate')\n",
    "plt.ylabel('True positive rate')\n",
    "plt.show()\n",
    "print('Area under ROC curve score = {}'.format(roc_auc_score(test_target, pred)))\n",
    "print('Accuracy = {}'.format(acc))"
   ]
  },
  {
   "cell_type": "markdown",
   "metadata": {},
   "source": [
    "*** Теперь проверим написанные вручную алгоритмы: трехслойный перцептрон и логистическую регрессию ***"
   ]
  },
  {
   "cell_type": "code",
   "execution_count": 161,
   "metadata": {
    "collapsed": true
   },
   "outputs": [],
   "source": [
    "# Класс, реализующий логистическую регрессию с L2 регуляризацией\n",
    "\n",
    "class LogisticRegression_m(object):\n",
    "\n",
    "    def __init__(self, eta=0.1, C=0, n_iter=100, method='batch', verbose=False):\n",
    "        \"\"\" Конструктор. Параметры:\n",
    "            eta - learning rate, определяет величину шага в сторону антиградиента, вещественное число\n",
    "            C - параметр L2 регуляризации, вещественное число\n",
    "            n_iter - число итераций по данным, целое число\n",
    "            method - возможные значения: batch, mini-batch, stoch. Тип градиентного спуска.\n",
    "            verbose - использовать для отладки и мониторинга сходимости \"\"\"\n",
    "        self.eta_ = eta\n",
    "        self.n_iter_ = n_iter\n",
    "        self.C_ = C\n",
    "        self.method_ = method\n",
    "\n",
    "    def fit(self, X, y):\n",
    "        \"\"\" Функция обучения регрессии. Параметры:\n",
    "            X - numpy array-like массив. В строках наблюдения, в столбцах пременные\n",
    "            y - вектор ответов \"\"\"\n",
    "        self.all_w_ = np.zeros((np.unique(y).size, X.shape[1] + 1))\n",
    "        self.num_labels = np.unique(y).size\n",
    "\n",
    "        if self.method_ == 'batch':\n",
    "            self._batch_grad(X, y)\n",
    "        if self.method_ == 'stoch':\n",
    "            self._stoch_grad(X, y)\n",
    "        if self.method_ == 'mini-batch':\n",
    "            self._minibatch_grad(X, y)\n",
    "        return self\n",
    "\n",
    "    def _batch_grad(self, X, y):\n",
    "        \"\"\" Реализация т.н. batch градиентного спуска. Функция n_iter раз проходит по всему датасету,\n",
    "            каждый раз вызывая один шаг спуска \"\"\"\n",
    "        for i in range(self.n_iter_):\n",
    "            self._batch_step(X, y)\n",
    "\n",
    "    def _batch_step(self, X, y):\n",
    "        \"\"\" Шаг batch градиентного спуска \"\"\"\n",
    "        self._one_v_rest(X, y)\n",
    "\n",
    "    def _one_v_rest(self, X, y):\n",
    "        \"\"\" Реализация поддержки многоклассовой задачи методом one vs rest \"\"\"\n",
    "        for c in np.unique(y):\n",
    "            y_ovr = np.where(y == c, 1, 0)\n",
    "            error = y_ovr - self.sigmoid(X, c)\n",
    "            self.all_w_[c, 0] += self.eta_ * error.sum() - self.eta_ * \\\n",
    "                self.C_ * self.all_w_[c, 0]\n",
    "            self.all_w_[c, 1:] += self.eta_ * X.T @ error - \\\n",
    "                self.eta_ * self.C_ * self.all_w_[c, 1:]\n",
    "\n",
    "    def _stoch_grad(self, X, y):\n",
    "        \"\"\" Реализация стохастического градиентного спуска. Рекомендуется при большом количестве данных. \"\"\"\n",
    "        for i in range(self.n_iter_):\n",
    "            self._stoch_step(X, y)\n",
    "\n",
    "    def _stoch_step(self, X, y):\n",
    "        \"\"\" Реализация шага стохастического градиентного спуска \"\"\"\n",
    "        rand_indices = np.random.permutation(y.size)\n",
    "        rand_choice = np.random.randint(0, y.size)\n",
    "        sample = X[rand_indices, :][rand_choice, :]\n",
    "\n",
    "        error = y[rand_indices][rand_choice] - self.sigmoid(sample)\n",
    "        self.w_[0] += self.eta_ * error - self.eta_ * self.C_ * self.w_[0]\n",
    "        self.w_[1:] += self.eta_ * sample * \\\n",
    "            error - self.eta_ * self.C_ * self.w_[1:]\n",
    "        self.errors_.append(self.logit_loss(\n",
    "            sample, y[rand_indices][rand_choice]))\n",
    "\n",
    "    def sigmoid(self, X, c):\n",
    "        \"\"\" Функция связи логистической регрессии \"\"\"\n",
    "        z = self.net_input(X, c)\n",
    "        return (1 / (1 + np.exp(-z)))\n",
    "\n",
    "    def net_input(self, X, c):\n",
    "        \"\"\" Скалярное произведение полученных после обучения весов и переменных наблюдения \"\"\"\n",
    "        return (X @ self.all_w_[c, 1:] + self.all_w_[c, 0])\n",
    "\n",
    "    def logit_loss(self, X, y):\n",
    "        \"\"\" Кросс-энтропия, целевая функция \"\"\"\n",
    "        return -(y * np.log(self.sigmoid(X)) + (1 - y) *\n",
    "                 np.log(1 - self.sigmoid(X))).sum()\n",
    "\n",
    "    def predict(self, X):\n",
    "        \"\"\" Возвращает ответы \"\"\"\n",
    "        probas = self._predict_one_v_rest(X)\n",
    "        return np.argmax(probas, axis=1)\n",
    "\n",
    "    def predict_proba(self, X):\n",
    "        \"\"\" Возвращает вероятности ответов \"\"\"\n",
    "        return self._predict_one_v_rest(X)\n",
    "\n",
    "    def _predict_one_v_rest(self, X):\n",
    "        \"\"\" Реализация для поддержки многоклассовой задачи методом one vs rest \"\"\"\n",
    "        probas = np.zeros((X.shape[0], self.num_labels))\n",
    "        for c in range(self.num_labels):\n",
    "            probas[:, c] = self.sigmoid(X, c)\n",
    "        return probas"
   ]
  },
  {
   "cell_type": "code",
   "execution_count": 163,
   "metadata": {
    "collapsed": false
   },
   "outputs": [
    {
     "data": {
      "image/png": "[encoded data removed]",
      "text/plain": [
       "<matplotlib.figure.Figure at 0x10f3f9dd8>"
      ]
     },
     "metadata": {},
     "output_type": "display_data"
    },
    {
     "name": "stdout",
     "output_type": "stream",
     "text": [
      "Area under ROC curve score = 0.9914311818834431\n",
      "Accuracy = 0.9501915708812261\n"
     ]
    }
   ],
   "source": [
    "lrm = LogisticRegression_m(C=0.1, n_iter=100)\n",
    "lrm.fit(train_tfidf, train_target)\n",
    "predi = lrm.predict_proba(test_tfidf)\n",
    "fpr, tpr, thresholds = metrics.roc_curve(test_target, predi[:, 1])\n",
    "acc = metrics.accuracy_score(y_pred=lrm.predict(test_tfidf.toarray()), y_true=test_target)\n",
    "plt.plot(fpr, tpr)\n",
    "plt.xlabel('False positive rate')\n",
    "plt.ylabel('True positive rate')\n",
    "plt.show()\n",
    "print('Area under ROC curve score = {}'.format(roc_auc_score(test_target, predi[:,1])))\n",
    "print('Accuracy = {}'.format(acc))"
   ]
  },
  {
   "cell_type": "markdown",
   "metadata": {},
   "source": []
  },
  {
   "cell_type": "code",
   "execution_count": null,
   "metadata": {
    "collapsed": true
   },
   "outputs": [],
   "source": []
  },
  {
   "cell_type": "code",
   "execution_count": 169,
   "metadata": {
    "collapsed": true
   },
   "outputs": [],
   "source": [
    "# import numpy as np\n",
    "from collections import OrderedDict\n",
    "\n",
    "\n",
    "class BagOfWordsVectorizer(object):\n",
    "\n",
    "    def __init__(self):\n",
    "        self.dictionary = OrderedDict()\n",
    "        self.max_features = max_features\n",
    "\n",
    "    def fit(self, X):\n",
    "        X_in = np.array(X)\n",
    "        X_in = self._make_dictionary(X_in)\n",
    "        self._vectorize(X_in)\n",
    "        return self\n",
    "\n",
    "    def _make_dictionary(self, X):\n",
    "        uniques = np.unique(X)\n",
    "        self.dictionary.update(zip(uniques, np.zeros((1, uniques.size))))\n",
    "        return X\n",
    "\n",
    "    def _vectorize(self, X):\n",
    "        X_vectorized = np.zeros((X.shape[0], X.shape[1]))\n",
    "        for num, row in enumerate(X):\n",
    "            row_dict = self.dictionary\n",
    "            for val in row:\n",
    "                if row_dict.get(val) is None:\n",
    "                    continue\n",
    "                else:\n",
    "                    row_dict[val] += 1\n",
    "\n",
    "            X_vectorized[num, :] = np.array(list(row_dict.values()))\n",
    "\n",
    "        return X_vectorized\n",
    "\n",
    "    def transform(self, X):\n",
    "        return self._vectorize(X)\n",
    "\n",
    "    def get_words(self):\n",
    "        return list(self.dictionary.keys())\n",
    "\n",
    "\n",
    "class FinalHWData(object):\n",
    "\n",
    "    def __init__(self, categories, remove):\n",
    "        self.categories = categories\n",
    "        self.remove = remove\n",
    "        self._init_data()\n",
    "\n",
    "    def _init_data(self):\n",
    "        self.train = fetch_20newsgroups(subset='train', categories=cats,\n",
    "                                        remove=('headers', 'footers', 'quotes'))\n",
    "        self.test = fetch_20newsgroups(subset='test', categories=cats,\n",
    "                                       remove=('headers', 'footers', 'quotes'))\n",
    "        self.train_target = self.train.target\n",
    "        self.test_target = self.test.target\n",
    "\n",
    "    def get_data(self, kind):\n",
    "        if kind.lower() == 'test':\n",
    "            return self.test.data\n",
    "        elif kind.lower() == 'train':\n",
    "            return self.train.data\n",
    "    \n",
    "    def get_target(self, kind):\n",
    "        if kind.lower() == 'test':\n",
    "            return self.test.target\n",
    "        elif kind.lower() == 'train':\n",
    "            return self.train.target\n",
    "\n",
    "\n",
    "class DataPreparator(object):\n",
    "\n",
    "    def __init__(self):\n",
    "        self.train_normal = []\n",
    "        self.test_normal = []\n",
    "\n",
    "    def normalize(self, train, test, stop_words):\n",
    "        for text in train:\n",
    "            tokens = nltk.word_tokenize(text)\n",
    "            tokens = list(filter(lambda x: x not in stop_words, tokens))\n",
    "            wnl = WordNetLemmatizer()\n",
    "            normal_form_list = [wnl.lemmatize(i, j[0].lower()) if j[0].lower() in ['a', 'n', 'v']\n",
    "                                else wnl.lemmatize(i) for i, j in pos_tag(tokens)]\n",
    "            normal_form = ' '.join(normal_form_list)\n",
    "            normal_form = re.sub(r'\\d+', '', normal_form.replace('*', ''))\n",
    "            self.train_normal.append(normal_form)\n",
    "\n",
    "        for text in test:\n",
    "            tokens = nltk.word_tokenize(text)\n",
    "            tokens = list(filter(lambda x: x not in stop_words, tokens))\n",
    "            wnl = WordNetLemmatizer()\n",
    "            normal_form_list = [wnl.lemmatize(i, j[0].lower()) if j[0].lower() in ['a', 'n', 'v']\n",
    "                                else wnl.lemmatize(i) for i, j in pos_tag(tokens)]\n",
    "            normal_form = ' '.join(normal_form_list)\n",
    "            normal_form = re.sub(r'\\d+', '', normal_form.replace('*', ''))\n",
    "            self.test_normal.append(normal_form)\n",
    "\n",
    "    def get_data(self, kind):\n",
    "        if kind.lower() == 'train':\n",
    "            return self.train_normal\n",
    "        elif kind.lower() == 'test':\n",
    "            return self.test_normal\n",
    "\n",
    "\n",
    "class ModelBuilder(object):\n",
    "\n",
    "    def __init__(self, cv_folds, models, models_names, param_grids):\n",
    "        self.cv_folds = cv_folds\n",
    "        self.models = models\n",
    "        self.models_names = models_names\n",
    "        self.param_grids = param_grids\n",
    "\n",
    "    def fit(self, train, target):\n",
    "        cross_validator = StratifiedKFold(\n",
    "            y=target, n_folds=self.cv_folds, shuffle=True, random_state=0)\n",
    "        best_score = 0\n",
    "        for clf, params, name in zip(self.models, self.param_grids, self.models_names):\n",
    "            gs = GridSearchCV(estimator=clf, param_grid=params,\n",
    "                              scoring='accuracy', cv=cross_validator)\n",
    "            gs.fit(train.toarray(), target)\n",
    "            print('For {} the score is {} with parameters {}'.format(\n",
    "                name, gs.best_score_, gs.best_params_))\n",
    "            if gs.best_score_ > best_score:\n",
    "                best_score = gs.best_score_\n",
    "                best_estimator = gs.best_estimator_\n",
    "        self.estimator = best_estimator\n",
    "        print('The best estimator is {}\\nwith accuracy = {}'.format(\n",
    "            best_estimator, best_score))\n",
    "\n",
    "    def test_and_report(self, roc_curve, report, test, target):\n",
    "        pred = self.estimator.predict_proba(test.toarray())[:, 1]\n",
    "        print(classification_report(target, self.estimator.predict(test.toarray())))\n",
    "        fpr, tpr, thresholds = metrics.roc_curve(target, pred)\n",
    "        acc = metrics.accuracy(y_pred=self.estimator.predict(\n",
    "            test.toarray()), y_true=target)\n",
    "        plt.plot(fpr, tpr)\n",
    "        plt.xlabel('False positive rate')\n",
    "        plt.ylabel('True positive rate')\n",
    "        plt.show()\n",
    "        print('Area under ROC curve score = {}'.format(\n",
    "            roc_auc_score(target, pred)))\n",
    "        print('Accuracy = {}'.format(acc))\n"
   ]
  },
  {
   "cell_type": "code",
   "execution_count": 170,
   "metadata": {
    "collapsed": false
   },
   "outputs": [
    {
     "name": "stdout",
     "output_type": "stream",
     "text": [
      "For Logistic Regression the score is 0.9507221750212405 with parameters {'random_state': 1, 'C': 10, 'class_weight': None}\n",
      "For Random Forest the score is 0.9252336448598131 with parameters {'n_estimators': 300, 'random_state': 0, 'max_depth': None, 'class_weight': 'balanced'}\n"
     ]
    },
    {
     "ename": "KeyboardInterrupt",
     "evalue": "",
     "output_type": "error",
     "traceback": [
      "\u001b[0;31m---------------------------------------------------------------------------\u001b[0m",
      "\u001b[0;31mKeyboardInterrupt\u001b[0m                         Traceback (most recent call last)",
      "\u001b[0;32m<ipython-input-170-08e0dc92b3ca>\u001b[0m in \u001b[0;36m<module>\u001b[0;34m()\u001b[0m\n\u001b[1;32m      8\u001b[0m \u001b[0mtr_vec\u001b[0m\u001b[0;34m=\u001b[0m \u001b[0mvec\u001b[0m\u001b[0;34m.\u001b[0m\u001b[0mfit_transform\u001b[0m\u001b[0;34m(\u001b[0m\u001b[0mpreparator_handle\u001b[0m\u001b[0;34m.\u001b[0m\u001b[0mget_data\u001b[0m\u001b[0;34m(\u001b[0m\u001b[0mkind\u001b[0m\u001b[0;34m=\u001b[0m\u001b[0;34m'train'\u001b[0m\u001b[0;34m)\u001b[0m\u001b[0;34m)\u001b[0m\u001b[0;34m\u001b[0m\u001b[0m\n\u001b[1;32m      9\u001b[0m \u001b[0mte_vec\u001b[0m \u001b[0;34m=\u001b[0m \u001b[0mvec\u001b[0m\u001b[0;34m.\u001b[0m\u001b[0mtransform\u001b[0m\u001b[0;34m(\u001b[0m\u001b[0mpreparator_handle\u001b[0m\u001b[0;34m.\u001b[0m\u001b[0mget_data\u001b[0m\u001b[0;34m(\u001b[0m\u001b[0mkind\u001b[0m\u001b[0;34m=\u001b[0m\u001b[0;34m'test'\u001b[0m\u001b[0;34m)\u001b[0m\u001b[0;34m)\u001b[0m\u001b[0;34m\u001b[0m\u001b[0m\n\u001b[0;32m---> 10\u001b[0;31m \u001b[0mbuilder\u001b[0m\u001b[0;34m.\u001b[0m\u001b[0mfit\u001b[0m\u001b[0;34m(\u001b[0m\u001b[0mtrain\u001b[0m\u001b[0;34m=\u001b[0m\u001b[0mtr_vec\u001b[0m\u001b[0;34m,\u001b[0m \u001b[0mtarget\u001b[0m\u001b[0;34m=\u001b[0m\u001b[0mdata_handle\u001b[0m\u001b[0;34m.\u001b[0m\u001b[0mget_target\u001b[0m\u001b[0;34m(\u001b[0m\u001b[0mkind\u001b[0m\u001b[0;34m=\u001b[0m\u001b[0;34m'train'\u001b[0m\u001b[0;34m)\u001b[0m\u001b[0;34m)\u001b[0m\u001b[0;34m\u001b[0m\u001b[0m\n\u001b[0m\u001b[1;32m     11\u001b[0m \u001b[0mbuilder\u001b[0m\u001b[0;34m.\u001b[0m\u001b[0mtest_and_report\u001b[0m\u001b[0;34m(\u001b[0m\u001b[0mtest\u001b[0m\u001b[0;34m=\u001b[0m\u001b[0mte_vec\u001b[0m\u001b[0;34m,\u001b[0m \u001b[0mtarget\u001b[0m\u001b[0;34m=\u001b[0m\u001b[0mdata_handle\u001b[0m\u001b[0;34m.\u001b[0m\u001b[0mget_target\u001b[0m\u001b[0;34m(\u001b[0m\u001b[0mkind\u001b[0m\u001b[0;34m=\u001b[0m\u001b[0;34m'test'\u001b[0m\u001b[0;34m)\u001b[0m\u001b[0;34m)\u001b[0m\u001b[0;34m\u001b[0m\u001b[0m\n",
      "\u001b[0;32m<ipython-input-169-ca4f46ac7901>\u001b[0m in \u001b[0;36mfit\u001b[0;34m(self, train, target)\u001b[0m\n\u001b[1;32m    118\u001b[0m             gs = GridSearchCV(estimator=clf, param_grid=params,\n\u001b[1;32m    119\u001b[0m                               scoring='accuracy', cv=cross_validator)\n\u001b[0;32m--> 120\u001b[0;31m             \u001b[0mgs\u001b[0m\u001b[0;34m.\u001b[0m\u001b[0mfit\u001b[0m\u001b[0;34m(\u001b[0m\u001b[0mtrain\u001b[0m\u001b[0;34m.\u001b[0m\u001b[0mtoarray\u001b[0m\u001b[0;34m(\u001b[0m\u001b[0;34m)\u001b[0m\u001b[0;34m,\u001b[0m \u001b[0mtarget\u001b[0m\u001b[0;34m)\u001b[0m\u001b[0;34m\u001b[0m\u001b[0m\n\u001b[0m\u001b[1;32m    121\u001b[0m             print('For {} the score is {} with parameters {}'.format(\n\u001b[1;32m    122\u001b[0m                 name, gs.best_score_, gs.best_params_))\n",
      "\u001b[0;32m/usr/local/lib/python3.5/site-packages/sklearn/model_selection/_search.py\u001b[0m in \u001b[0;36mfit\u001b[0;34m(self, X, y, groups)\u001b[0m\n\u001b[1;32m    938\u001b[0m             \u001b[0mtrain\u001b[0m\u001b[0;34m/\u001b[0m\u001b[0mtest\u001b[0m \u001b[0mset\u001b[0m\u001b[0;34m.\u001b[0m\u001b[0;34m\u001b[0m\u001b[0m\n\u001b[1;32m    939\u001b[0m         \"\"\"\n\u001b[0;32m--> 940\u001b[0;31m         \u001b[0;32mreturn\u001b[0m \u001b[0mself\u001b[0m\u001b[0;34m.\u001b[0m\u001b[0m_fit\u001b[0m\u001b[0;34m(\u001b[0m\u001b[0mX\u001b[0m\u001b[0;34m,\u001b[0m \u001b[0my\u001b[0m\u001b[0;34m,\u001b[0m \u001b[0mgroups\u001b[0m\u001b[0;34m,\u001b[0m \u001b[0mParameterGrid\u001b[0m\u001b[0;34m(\u001b[0m\u001b[0mself\u001b[0m\u001b[0;34m.\u001b[0m\u001b[0mparam_grid\u001b[0m\u001b[0;34m)\u001b[0m\u001b[0;34m)\u001b[0m\u001b[0;34m\u001b[0m\u001b[0m\n\u001b[0m\u001b[1;32m    941\u001b[0m \u001b[0;34m\u001b[0m\u001b[0m\n\u001b[1;32m    942\u001b[0m \u001b[0;34m\u001b[0m\u001b[0m\n",
      "\u001b[0;32m/usr/local/lib/python3.5/site-packages/sklearn/model_selection/_search.py\u001b[0m in \u001b[0;36m_fit\u001b[0;34m(self, X, y, groups, parameter_iterable)\u001b[0m\n\u001b[1;32m    560\u001b[0m                                   \u001b[0mreturn_times\u001b[0m\u001b[0;34m=\u001b[0m\u001b[0;32mTrue\u001b[0m\u001b[0;34m,\u001b[0m \u001b[0mreturn_parameters\u001b[0m\u001b[0;34m=\u001b[0m\u001b[0;32mTrue\u001b[0m\u001b[0;34m,\u001b[0m\u001b[0;34m\u001b[0m\u001b[0m\n\u001b[1;32m    561\u001b[0m                                   error_score=self.error_score)\n\u001b[0;32m--> 562\u001b[0;31m           \u001b[0;32mfor\u001b[0m \u001b[0mparameters\u001b[0m \u001b[0;32min\u001b[0m \u001b[0mparameter_iterable\u001b[0m\u001b[0;34m\u001b[0m\u001b[0m\n\u001b[0m\u001b[1;32m    563\u001b[0m           for train, test in cv.split(X, y, groups))\n\u001b[1;32m    564\u001b[0m \u001b[0;34m\u001b[0m\u001b[0m\n",
      "\u001b[0;32m/usr/local/lib/python3.5/site-packages/sklearn/externals/joblib/parallel.py\u001b[0m in \u001b[0;36m__call__\u001b[0;34m(self, iterable)\u001b[0m\n\u001b[1;32m    756\u001b[0m             \u001b[0;31m# was dispatched. In particular this covers the edge\u001b[0m\u001b[0;34m\u001b[0m\u001b[0;34m\u001b[0m\u001b[0m\n\u001b[1;32m    757\u001b[0m             \u001b[0;31m# case of Parallel used with an exhausted iterator.\u001b[0m\u001b[0;34m\u001b[0m\u001b[0;34m\u001b[0m\u001b[0m\n\u001b[0;32m--> 758\u001b[0;31m             \u001b[0;32mwhile\u001b[0m \u001b[0mself\u001b[0m\u001b[0;34m.\u001b[0m\u001b[0mdispatch_one_batch\u001b[0m\u001b[0;34m(\u001b[0m\u001b[0miterator\u001b[0m\u001b[0;34m)\u001b[0m\u001b[0;34m:\u001b[0m\u001b[0;34m\u001b[0m\u001b[0m\n\u001b[0m\u001b[1;32m    759\u001b[0m                 \u001b[0mself\u001b[0m\u001b[0;34m.\u001b[0m\u001b[0m_iterating\u001b[0m \u001b[0;34m=\u001b[0m \u001b[0;32mTrue\u001b[0m\u001b[0;34m\u001b[0m\u001b[0m\n\u001b[1;32m    760\u001b[0m             \u001b[0;32melse\u001b[0m\u001b[0;34m:\u001b[0m\u001b[0;34m\u001b[0m\u001b[0m\n",
      "\u001b[0;32m/usr/local/lib/python3.5/site-packages/sklearn/externals/joblib/parallel.py\u001b[0m in \u001b[0;36mdispatch_one_batch\u001b[0;34m(self, iterator)\u001b[0m\n\u001b[1;32m    606\u001b[0m                 \u001b[0;32mreturn\u001b[0m \u001b[0;32mFalse\u001b[0m\u001b[0;34m\u001b[0m\u001b[0m\n\u001b[1;32m    607\u001b[0m             \u001b[0;32melse\u001b[0m\u001b[0;34m:\u001b[0m\u001b[0;34m\u001b[0m\u001b[0m\n\u001b[0;32m--> 608\u001b[0;31m                 \u001b[0mself\u001b[0m\u001b[0;34m.\u001b[0m\u001b[0m_dispatch\u001b[0m\u001b[0;34m(\u001b[0m\u001b[0mtasks\u001b[0m\u001b[0;34m)\u001b[0m\u001b[0;34m\u001b[0m\u001b[0m\n\u001b[0m\u001b[1;32m    609\u001b[0m                 \u001b[0;32mreturn\u001b[0m \u001b[0;32mTrue\u001b[0m\u001b[0;34m\u001b[0m\u001b[0m\n\u001b[1;32m    610\u001b[0m \u001b[0;34m\u001b[0m\u001b[0m\n",
      "\u001b[0;32m/usr/local/lib/python3.5/site-packages/sklearn/externals/joblib/parallel.py\u001b[0m in \u001b[0;36m_dispatch\u001b[0;34m(self, batch)\u001b[0m\n\u001b[1;32m    569\u001b[0m         \u001b[0mdispatch_timestamp\u001b[0m \u001b[0;34m=\u001b[0m \u001b[0mtime\u001b[0m\u001b[0;34m.\u001b[0m\u001b[0mtime\u001b[0m\u001b[0;34m(\u001b[0m\u001b[0;34m)\u001b[0m\u001b[0;34m\u001b[0m\u001b[0m\n\u001b[1;32m    570\u001b[0m         \u001b[0mcb\u001b[0m \u001b[0;34m=\u001b[0m \u001b[0mBatchCompletionCallBack\u001b[0m\u001b[0;34m(\u001b[0m\u001b[0mdispatch_timestamp\u001b[0m\u001b[0;34m,\u001b[0m \u001b[0mlen\u001b[0m\u001b[0;34m(\u001b[0m\u001b[0mbatch\u001b[0m\u001b[0;34m)\u001b[0m\u001b[0;34m,\u001b[0m \u001b[0mself\u001b[0m\u001b[0;34m)\u001b[0m\u001b[0;34m\u001b[0m\u001b[0m\n\u001b[0;32m--> 571\u001b[0;31m         \u001b[0mjob\u001b[0m \u001b[0;34m=\u001b[0m \u001b[0mself\u001b[0m\u001b[0;34m.\u001b[0m\u001b[0m_backend\u001b[0m\u001b[0;34m.\u001b[0m\u001b[0mapply_async\u001b[0m\u001b[0;34m(\u001b[0m\u001b[0mbatch\u001b[0m\u001b[0;34m,\u001b[0m \u001b[0mcallback\u001b[0m\u001b[0;34m=\u001b[0m\u001b[0mcb\u001b[0m\u001b[0;34m)\u001b[0m\u001b[0;34m\u001b[0m\u001b[0m\n\u001b[0m\u001b[1;32m    572\u001b[0m         \u001b[0mself\u001b[0m\u001b[0;34m.\u001b[0m\u001b[0m_jobs\u001b[0m\u001b[0;34m.\u001b[0m\u001b[0mappend\u001b[0m\u001b[0;34m(\u001b[0m\u001b[0mjob\u001b[0m\u001b[0;34m)\u001b[0m\u001b[0;34m\u001b[0m\u001b[0m\n\u001b[1;32m    573\u001b[0m \u001b[0;34m\u001b[0m\u001b[0m\n",
      "\u001b[0;32m/usr/local/lib/python3.5/site-packages/sklearn/externals/joblib/_parallel_backends.py\u001b[0m in \u001b[0;36mapply_async\u001b[0;34m(self, func, callback)\u001b[0m\n\u001b[1;32m    107\u001b[0m     \u001b[0;32mdef\u001b[0m \u001b[0mapply_async\u001b[0m\u001b[0;34m(\u001b[0m\u001b[0mself\u001b[0m\u001b[0;34m,\u001b[0m \u001b[0mfunc\u001b[0m\u001b[0;34m,\u001b[0m \u001b[0mcallback\u001b[0m\u001b[0;34m=\u001b[0m\u001b[0;32mNone\u001b[0m\u001b[0;34m)\u001b[0m\u001b[0;34m:\u001b[0m\u001b[0;34m\u001b[0m\u001b[0m\n\u001b[1;32m    108\u001b[0m         \u001b[0;34m\"\"\"Schedule a func to be run\"\"\"\u001b[0m\u001b[0;34m\u001b[0m\u001b[0m\n\u001b[0;32m--> 109\u001b[0;31m         \u001b[0mresult\u001b[0m \u001b[0;34m=\u001b[0m \u001b[0mImmediateResult\u001b[0m\u001b[0;34m(\u001b[0m\u001b[0mfunc\u001b[0m\u001b[0;34m)\u001b[0m\u001b[0;34m\u001b[0m\u001b[0m\n\u001b[0m\u001b[1;32m    110\u001b[0m         \u001b[0;32mif\u001b[0m \u001b[0mcallback\u001b[0m\u001b[0;34m:\u001b[0m\u001b[0;34m\u001b[0m\u001b[0m\n\u001b[1;32m    111\u001b[0m             \u001b[0mcallback\u001b[0m\u001b[0;34m(\u001b[0m\u001b[0mresult\u001b[0m\u001b[0;34m)\u001b[0m\u001b[0;34m\u001b[0m\u001b[0m\n",
      "\u001b[0;32m/usr/local/lib/python3.5/site-packages/sklearn/externals/joblib/_parallel_backends.py\u001b[0m in \u001b[0;36m__init__\u001b[0;34m(self, batch)\u001b[0m\n\u001b[1;32m    320\u001b[0m         \u001b[0;31m# Don't delay the application, to avoid keeping the input\u001b[0m\u001b[0;34m\u001b[0m\u001b[0;34m\u001b[0m\u001b[0m\n\u001b[1;32m    321\u001b[0m         \u001b[0;31m# arguments in memory\u001b[0m\u001b[0;34m\u001b[0m\u001b[0;34m\u001b[0m\u001b[0m\n\u001b[0;32m--> 322\u001b[0;31m         \u001b[0mself\u001b[0m\u001b[0;34m.\u001b[0m\u001b[0mresults\u001b[0m \u001b[0;34m=\u001b[0m \u001b[0mbatch\u001b[0m\u001b[0;34m(\u001b[0m\u001b[0;34m)\u001b[0m\u001b[0;34m\u001b[0m\u001b[0m\n\u001b[0m\u001b[1;32m    323\u001b[0m \u001b[0;34m\u001b[0m\u001b[0m\n\u001b[1;32m    324\u001b[0m     \u001b[0;32mdef\u001b[0m \u001b[0mget\u001b[0m\u001b[0;34m(\u001b[0m\u001b[0mself\u001b[0m\u001b[0;34m)\u001b[0m\u001b[0;34m:\u001b[0m\u001b[0;34m\u001b[0m\u001b[0m\n",
      "\u001b[0;32m/usr/local/lib/python3.5/site-packages/sklearn/externals/joblib/parallel.py\u001b[0m in \u001b[0;36m__call__\u001b[0;34m(self)\u001b[0m\n\u001b[1;32m    129\u001b[0m \u001b[0;34m\u001b[0m\u001b[0m\n\u001b[1;32m    130\u001b[0m     \u001b[0;32mdef\u001b[0m \u001b[0m__call__\u001b[0m\u001b[0;34m(\u001b[0m\u001b[0mself\u001b[0m\u001b[0;34m)\u001b[0m\u001b[0;34m:\u001b[0m\u001b[0;34m\u001b[0m\u001b[0m\n\u001b[0;32m--> 131\u001b[0;31m         \u001b[0;32mreturn\u001b[0m \u001b[0;34m[\u001b[0m\u001b[0mfunc\u001b[0m\u001b[0;34m(\u001b[0m\u001b[0;34m*\u001b[0m\u001b[0margs\u001b[0m\u001b[0;34m,\u001b[0m \u001b[0;34m**\u001b[0m\u001b[0mkwargs\u001b[0m\u001b[0;34m)\u001b[0m \u001b[0;32mfor\u001b[0m \u001b[0mfunc\u001b[0m\u001b[0;34m,\u001b[0m \u001b[0margs\u001b[0m\u001b[0;34m,\u001b[0m \u001b[0mkwargs\u001b[0m \u001b[0;32min\u001b[0m \u001b[0mself\u001b[0m\u001b[0;34m.\u001b[0m\u001b[0mitems\u001b[0m\u001b[0;34m]\u001b[0m\u001b[0;34m\u001b[0m\u001b[0m\n\u001b[0m\u001b[1;32m    132\u001b[0m \u001b[0;34m\u001b[0m\u001b[0m\n\u001b[1;32m    133\u001b[0m     \u001b[0;32mdef\u001b[0m \u001b[0m__len__\u001b[0m\u001b[0;34m(\u001b[0m\u001b[0mself\u001b[0m\u001b[0;34m)\u001b[0m\u001b[0;34m:\u001b[0m\u001b[0;34m\u001b[0m\u001b[0m\n",
      "\u001b[0;32m/usr/local/lib/python3.5/site-packages/sklearn/externals/joblib/parallel.py\u001b[0m in \u001b[0;36m<listcomp>\u001b[0;34m(.0)\u001b[0m\n\u001b[1;32m    129\u001b[0m \u001b[0;34m\u001b[0m\u001b[0m\n\u001b[1;32m    130\u001b[0m     \u001b[0;32mdef\u001b[0m \u001b[0m__call__\u001b[0m\u001b[0;34m(\u001b[0m\u001b[0mself\u001b[0m\u001b[0;34m)\u001b[0m\u001b[0;34m:\u001b[0m\u001b[0;34m\u001b[0m\u001b[0m\n\u001b[0;32m--> 131\u001b[0;31m         \u001b[0;32mreturn\u001b[0m \u001b[0;34m[\u001b[0m\u001b[0mfunc\u001b[0m\u001b[0;34m(\u001b[0m\u001b[0;34m*\u001b[0m\u001b[0margs\u001b[0m\u001b[0;34m,\u001b[0m \u001b[0;34m**\u001b[0m\u001b[0mkwargs\u001b[0m\u001b[0;34m)\u001b[0m \u001b[0;32mfor\u001b[0m \u001b[0mfunc\u001b[0m\u001b[0;34m,\u001b[0m \u001b[0margs\u001b[0m\u001b[0;34m,\u001b[0m \u001b[0mkwargs\u001b[0m \u001b[0;32min\u001b[0m \u001b[0mself\u001b[0m\u001b[0;34m.\u001b[0m\u001b[0mitems\u001b[0m\u001b[0;34m]\u001b[0m\u001b[0;34m\u001b[0m\u001b[0m\n\u001b[0m\u001b[1;32m    132\u001b[0m \u001b[0;34m\u001b[0m\u001b[0m\n\u001b[1;32m    133\u001b[0m     \u001b[0;32mdef\u001b[0m \u001b[0m__len__\u001b[0m\u001b[0;34m(\u001b[0m\u001b[0mself\u001b[0m\u001b[0;34m)\u001b[0m\u001b[0;34m:\u001b[0m\u001b[0;34m\u001b[0m\u001b[0m\n",
      "\u001b[0;32m/usr/local/lib/python3.5/site-packages/sklearn/model_selection/_validation.py\u001b[0m in \u001b[0;36m_fit_and_score\u001b[0;34m(estimator, X, y, scorer, train, test, verbose, parameters, fit_params, return_train_score, return_parameters, return_n_test_samples, return_times, error_score)\u001b[0m\n\u001b[1;32m    236\u001b[0m             \u001b[0mestimator\u001b[0m\u001b[0;34m.\u001b[0m\u001b[0mfit\u001b[0m\u001b[0;34m(\u001b[0m\u001b[0mX_train\u001b[0m\u001b[0;34m,\u001b[0m \u001b[0;34m**\u001b[0m\u001b[0mfit_params\u001b[0m\u001b[0;34m)\u001b[0m\u001b[0;34m\u001b[0m\u001b[0m\n\u001b[1;32m    237\u001b[0m         \u001b[0;32melse\u001b[0m\u001b[0;34m:\u001b[0m\u001b[0;34m\u001b[0m\u001b[0m\n\u001b[0;32m--> 238\u001b[0;31m             \u001b[0mestimator\u001b[0m\u001b[0;34m.\u001b[0m\u001b[0mfit\u001b[0m\u001b[0;34m(\u001b[0m\u001b[0mX_train\u001b[0m\u001b[0;34m,\u001b[0m \u001b[0my_train\u001b[0m\u001b[0;34m,\u001b[0m \u001b[0;34m**\u001b[0m\u001b[0mfit_params\u001b[0m\u001b[0;34m)\u001b[0m\u001b[0;34m\u001b[0m\u001b[0m\n\u001b[0m\u001b[1;32m    239\u001b[0m \u001b[0;34m\u001b[0m\u001b[0m\n\u001b[1;32m    240\u001b[0m     \u001b[0;32mexcept\u001b[0m \u001b[0mException\u001b[0m \u001b[0;32mas\u001b[0m \u001b[0me\u001b[0m\u001b[0;34m:\u001b[0m\u001b[0;34m\u001b[0m\u001b[0m\n",
      "\u001b[0;32m/usr/local/lib/python3.5/site-packages/sklearn/ensemble/gradient_boosting.py\u001b[0m in \u001b[0;36mfit\u001b[0;34m(self, X, y, sample_weight, monitor)\u001b[0m\n\u001b[1;32m   1026\u001b[0m         \u001b[0;31m# fit the boosting stages\u001b[0m\u001b[0;34m\u001b[0m\u001b[0;34m\u001b[0m\u001b[0m\n\u001b[1;32m   1027\u001b[0m         n_stages = self._fit_stages(X, y, y_pred, sample_weight, random_state,\n\u001b[0;32m-> 1028\u001b[0;31m                                     begin_at_stage, monitor, X_idx_sorted)\n\u001b[0m\u001b[1;32m   1029\u001b[0m         \u001b[0;31m# change shape of arrays after fit (early-stopping or additional ests)\u001b[0m\u001b[0;34m\u001b[0m\u001b[0;34m\u001b[0m\u001b[0m\n\u001b[1;32m   1030\u001b[0m         \u001b[0;32mif\u001b[0m \u001b[0mn_stages\u001b[0m \u001b[0;34m!=\u001b[0m \u001b[0mself\u001b[0m\u001b[0;34m.\u001b[0m\u001b[0mestimators_\u001b[0m\u001b[0;34m.\u001b[0m\u001b[0mshape\u001b[0m\u001b[0;34m[\u001b[0m\u001b[0;36m0\u001b[0m\u001b[0;34m]\u001b[0m\u001b[0;34m:\u001b[0m\u001b[0;34m\u001b[0m\u001b[0m\n",
      "\u001b[0;32m/usr/local/lib/python3.5/site-packages/sklearn/ensemble/gradient_boosting.py\u001b[0m in \u001b[0;36m_fit_stages\u001b[0;34m(self, X, y, y_pred, sample_weight, random_state, begin_at_stage, monitor, X_idx_sorted)\u001b[0m\n\u001b[1;32m   1081\u001b[0m             y_pred = self._fit_stage(i, X, y, y_pred, sample_weight,\n\u001b[1;32m   1082\u001b[0m                                      \u001b[0msample_mask\u001b[0m\u001b[0;34m,\u001b[0m \u001b[0mrandom_state\u001b[0m\u001b[0;34m,\u001b[0m \u001b[0mX_idx_sorted\u001b[0m\u001b[0;34m,\u001b[0m\u001b[0;34m\u001b[0m\u001b[0m\n\u001b[0;32m-> 1083\u001b[0;31m                                      X_csc, X_csr)\n\u001b[0m\u001b[1;32m   1084\u001b[0m \u001b[0;34m\u001b[0m\u001b[0m\n\u001b[1;32m   1085\u001b[0m             \u001b[0;31m# track deviance (= loss)\u001b[0m\u001b[0;34m\u001b[0m\u001b[0;34m\u001b[0m\u001b[0m\n",
      "\u001b[0;32m/usr/local/lib/python3.5/site-packages/sklearn/ensemble/gradient_boosting.py\u001b[0m in \u001b[0;36m_fit_stage\u001b[0;34m(self, i, X, y, y_pred, sample_weight, sample_mask, random_state, X_idx_sorted, X_csc, X_csr)\u001b[0m\n\u001b[1;32m    785\u001b[0m             \u001b[0;32melse\u001b[0m\u001b[0;34m:\u001b[0m\u001b[0;34m\u001b[0m\u001b[0m\n\u001b[1;32m    786\u001b[0m                 tree.fit(X, residual, sample_weight=sample_weight,\n\u001b[0;32m--> 787\u001b[0;31m                          check_input=False, X_idx_sorted=X_idx_sorted)\n\u001b[0m\u001b[1;32m    788\u001b[0m \u001b[0;34m\u001b[0m\u001b[0m\n\u001b[1;32m    789\u001b[0m             \u001b[0;31m# update tree leaves\u001b[0m\u001b[0;34m\u001b[0m\u001b[0;34m\u001b[0m\u001b[0m\n",
      "\u001b[0;32m/usr/local/lib/python3.5/site-packages/sklearn/tree/tree.py\u001b[0m in \u001b[0;36mfit\u001b[0;34m(self, X, y, sample_weight, check_input, X_idx_sorted)\u001b[0m\n\u001b[1;32m    375\u001b[0m                                            max_leaf_nodes, self.min_impurity_split)\n\u001b[1;32m    376\u001b[0m \u001b[0;34m\u001b[0m\u001b[0m\n\u001b[0;32m--> 377\u001b[0;31m         \u001b[0mbuilder\u001b[0m\u001b[0;34m.\u001b[0m\u001b[0mbuild\u001b[0m\u001b[0;34m(\u001b[0m\u001b[0mself\u001b[0m\u001b[0;34m.\u001b[0m\u001b[0mtree_\u001b[0m\u001b[0;34m,\u001b[0m \u001b[0mX\u001b[0m\u001b[0;34m,\u001b[0m \u001b[0my\u001b[0m\u001b[0;34m,\u001b[0m \u001b[0msample_weight\u001b[0m\u001b[0;34m,\u001b[0m \u001b[0mX_idx_sorted\u001b[0m\u001b[0;34m)\u001b[0m\u001b[0;34m\u001b[0m\u001b[0m\n\u001b[0m\u001b[1;32m    378\u001b[0m \u001b[0;34m\u001b[0m\u001b[0m\n\u001b[1;32m    379\u001b[0m         \u001b[0;32mif\u001b[0m \u001b[0mself\u001b[0m\u001b[0;34m.\u001b[0m\u001b[0mn_outputs_\u001b[0m \u001b[0;34m==\u001b[0m \u001b[0;36m1\u001b[0m\u001b[0;34m:\u001b[0m\u001b[0;34m\u001b[0m\u001b[0m\n",
      "\u001b[0;31mKeyboardInterrupt\u001b[0m: "
     ]
    }
   ],
   "source": [
    "data_handle = FinalHWData(categories=cats, remove=('headers', 'footers', 'quotes'))\n",
    "preparator_handle = DataPreparator()\n",
    "preparator_handle.normalize(train=data_handle.get_data(kind='train'),\n",
    "                            test=data_handle.get_data(kind='test'),\n",
    "                            stop_words=ignore_symbs)\n",
    "builder = ModelBuilder(cv_folds=10, models=models[:3], models_names=models_names[:3], param_grids=param_grids[:3])\n",
    "vec = CountVectorizer(analyzer='word')\n",
    "tr_vec= vec.fit_transform(preparator_handle.get_data(kind='train'))\n",
    "te_vec = vec.transform(preparator_handle.get_data(kind='test'))\n",
    "builder.fit(train=tr_vec, target=data_handle.get_target(kind='train'))\n",
    "builder.test_and_report(test=te_vec, target=data_handle.get_target(kind='test'))"
   ]
  },
  {
   "cell_type": "code",
   "execution_count": null,
   "metadata": {
    "collapsed": true
   },
   "outputs": [],
   "source": []
  }
 ],
 "metadata": {
  "kernelspec": {
   "display_name": "Python 3",
   "language": "python",
   "name": "python3"
  },
  "language_info": {
   "codemirror_mode": {
    "name": "ipython",
    "version": 3
   },
   "file_extension": ".py",
   "mimetype": "text/x-python",
   "name": "python",
   "nbconvert_exporter": "python",
   "pygments_lexer": "ipython3",
   "version": "3.5.2"
  }
 },
 "nbformat": 4,
 "nbformat_minor": 1
}
