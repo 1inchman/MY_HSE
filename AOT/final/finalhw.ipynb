{
 "cells": [
  {
   "cell_type": "markdown",
   "metadata": {},
   "source": [
    "# Итоговое задание по курсу АОТ"
   ]
  },
  {
   "cell_type": "markdown",
   "metadata": {},
   "source": [
    "### Язык программирования python3 (задание E, пункт 2: тематическая классификация на основе векторной модели текста)"
   ]
  },
  {
   "cell_type": "markdown",
   "metadata": {},
   "source": [
    "***Импортируем все необходимые модули для парсинга текстов, извлечения векторов из текста, классификаторы и метрики.***"
   ]
  },
  {
   "cell_type": "code",
   "execution_count": 89,
   "metadata": {
    "collapsed": true
   },
   "outputs": [],
   "source": [
    "from sklearn.datasets import fetch_20newsgroups\n",
    "from sklearn import metrics\n",
    "from sklearn.feature_extraction.text import TfidfVectorizer, CountVectorizer\n",
    "from sklearn.model_selection import GridSearchCV\n",
    "from sklearn.ensemble import RandomForestClassifier, GradientBoostingClassifier\n",
    "from sklearn.linear_model import LogisticRegression\n",
    "from sklearn.cross_validation import StratifiedKFold\n",
    "import nltk\n",
    "from nltk.stem import WordNetLemmatizer\n",
    "from nltk import pos_tag\n",
    "import pandas as pd\n",
    "import numpy as np\n",
    "import re"
   ]
  },
  {
   "cell_type": "markdown",
   "metadata": {},
   "source": [
    "***Вынесем нерелевантные токены в лист.***"
   ]
  },
  {
   "cell_type": "code",
   "execution_count": 90,
   "metadata": {
    "collapsed": true
   },
   "outputs": [],
   "source": [
    "ignore_symbs = [',', '-', ':', '!', ';', '(', ')', '–', '\"', '{', '}', '[', ']', '.', '?', '@',\n",
    "                '<', '>', '|', '*', '...']"
   ]
  },
  {
   "cell_type": "markdown",
   "metadata": {},
   "source": [
    "***Воспользуемся размеченной выборкой текстов из модуля scikit-learn.datasets. Модуль содержит размеченные выборки текстов на 20 тематик. Выберем две темы для простоты визуализации: компьютерное железо и религия . Запишем эти сырые тексты в два листа – train и test. ***"
   ]
  },
  {
   "cell_type": "code",
   "execution_count": 91,
   "metadata": {
    "collapsed": false
   },
   "outputs": [],
   "source": [
    "cats=['comp.sys.mac.hardware', 'soc.religion.christian']\n",
    "train = fetch_20newsgroups(subset='train', categories=cats, remove=('headers', 'footers', 'quotes'))\n",
    "test = fetch_20newsgroups(subset='test', categories=cats, remove=('headers', 'footers', 'quotes'))\n",
    "train_target = train.target\n",
    "test_target = test.target"
   ]
  },
  {
   "cell_type": "markdown",
   "metadata": {},
   "source": [
    "***Посмотрим на первые тексты в train и test выборках.***"
   ]
  },
  {
   "cell_type": "code",
   "execution_count": 29,
   "metadata": {
    "collapsed": false
   },
   "outputs": [
    {
     "name": "stdout",
     "output_type": "stream",
     "text": [
      "\n",
      "I haven't followed whatever discussion there may have been on these\n",
      "people, but I feel that C. S. Lewis is an excellent apologist and I\n",
      "see no reason for embarrassment.  If you think that errors and flawed\n",
      "arguments are a reason for dismissing a thinker, you must dismiss\n",
      "nearly every thinker from Descartes to Kant; any philosophy course\n",
      "will introduce you to their weaknesses.  \n",
      " \n",
      "  The above also expresses a rather odd sense\n",
      "\n",
      "I said nothing about \"the masses.\"  However comparing \"the masses\" in\n",
      "our day and in Aquinas' day really *is* odd.  Read Ortega y Gasset on\n",
      "this.\n",
      "\n",
      "I'm talking about the familiar experience of arguing all night and\n",
      "winning on logic and evidence, only to discover your opponent to be\n",
      "unaware, even intuitively, of things like entailment (let alone\n",
      "pragmatics).  (I am assuming that both parties are college graduates\n",
      "or better...)  Myself, I don't bother any more.\n",
      "\n",
      "Ken\n"
     ]
    }
   ],
   "source": [
    "print(train.data[0])"
   ]
  },
  {
   "cell_type": "code",
   "execution_count": 30,
   "metadata": {
    "collapsed": false
   },
   "outputs": [
    {
     "name": "stdout",
     "output_type": "stream",
     "text": [
      "Hi everyone,\n",
      "\n",
      "I'm trying to find my way to God, but find it difficult as I can't hear\n",
      "God talking to me, letting me know that he exists and is with me and\n",
      "that he knows me, and I feel that I can't possibly get to know him until\n",
      "he does. Maybe he _is_ talking to me but I just don't know or understand\n",
      "how to listen.\n",
      "\n",
      "Some Christians tell me that (in their opinion) the only way to find God\n",
      "is to take a plunge and commit your life to him, and you will discover.\n",
      "This idea of diving into the totally unknown is a little bit\n",
      "frightening, but I have a few questions.\n",
      "\n",
      "1) How do you actually commit yourself? If I just say, \"OK God, her you\n",
      "go, I'm committing my life to you\", I wouldn't really feel that he'd\n",
      "listened - at least, I couldn't be sure that he had. So how does one (or\n",
      "how did you) commit oneself to God?\n",
      "\n",
      "2) In committing myself in this way, what do I have to forfeit of my\n",
      "current life? What can I no longer do? I feel that I'm as 'good' as many\n",
      "Christians, and I try to uphold the idea of 'loving your neighbour' - I\n",
      "don't go round killing people, stealing, etc., and I try not to get\n",
      "jealous of other people in any way - and I would say that I keep to the\n",
      "standards of treating other people as well as many Christians. So what\n",
      "do I have to give up?\n",
      "\n",
      "3) When committed, what do I have to do? What does it involve? What (if\n",
      "any) burdens am I taking on?\n",
      "\n",
      "4) So then, what's the general difference before and after? I assume,\n",
      "that (like on your birthday you don't suddenly feel a year older) it\n",
      "won't suddenly change my life the day I commit myself. So what happens?\n",
      "\n",
      "5) How can I be sure that it is the right thing to do? How can I find\n",
      "out what the 'it' in the last sentence actually _is_?!\n",
      "\n",
      "Thanks very much for all your help in answering these questions. Perhaps\n",
      "e-mail would be a better way to reply, but it's up to you.\n"
     ]
    }
   ],
   "source": [
    "print(test.data[0])"
   ]
  },
  {
   "cell_type": "markdown",
   "metadata": {},
   "source": [
    "***Теперь необходимо выбросить из списка токенов знаки препинания, привести слова к нормальной форме и соединить их обратно в текст. Класс word_tokenize из модуля nltk разбивает текст на токены и возвращает лист. Далее лист токенов фильтруется, а класс WordNetLemmatizer приводит слова к нормальной форме. На выходе получаем листы текстов, в которых все слова приведены к нормальной форме. Здесь не используется список стоп-слов, так как в векторизаторах scikit-learn встроен фильтр стоп-слов. ***"
   ]
  },
  {
   "cell_type": "code",
   "execution_count": 92,
   "metadata": {
    "collapsed": false
   },
   "outputs": [],
   "source": [
    "train_normal = []\n",
    "test_normal = []\n",
    "for text in train.data:\n",
    "    tokens = nltk.word_tokenize(text)\n",
    "    tokens = list(filter(lambda x: x not in ignore_symbs, tokens))\n",
    "    wnl = WordNetLemmatizer()\n",
    "    normal_form_list = [wnl.lemmatize(i,j[0].lower()) if j[0].lower() in ['a','n','v'] \n",
    "                   else wnl.lemmatize(i) for i,j in pos_tag(tokens)]\n",
    "    normal_form = ' '.join(normal_form_list)\n",
    "    normal_form = re.sub(r'\\d+', '', normal_form.replace('*', ''))\n",
    "    train_normal.append(normal_form)\n",
    "    \n",
    "for text in test.data:\n",
    "    tokens = nltk.word_tokenize(text)\n",
    "    tokens = list(filter(lambda x: x not in ignore_symbs, tokens))\n",
    "    wnl = WordNetLemmatizer()\n",
    "    normal_form_list = [wnl.lemmatize(i,j[0].lower()) if j[0].lower() in ['a','n','v'] \n",
    "                   else wnl.lemmatize(i) for i,j in pos_tag(tokens)]\n",
    "    normal_form = ' '.join(normal_form_list)\n",
    "    normal_form = re.sub(r'\\d+', '', normal_form.replace('*', ''))\n",
    "    test_normal.append(normal_form)"
   ]
  },
  {
   "cell_type": "markdown",
   "metadata": {},
   "source": [
    "*** Попробуем две векторные модели текста ***"
   ]
  },
  {
   "cell_type": "markdown",
   "metadata": {},
   "source": [
    "*** I. Bag of words ***"
   ]
  },
  {
   "cell_type": "code",
   "execution_count": 71,
   "metadata": {
    "collapsed": false
   },
   "outputs": [],
   "source": [
    "vectorizer = CountVectorizer(analyzer='word')\n",
    "train_vectorized = vectorizer.fit_transform(train_normal)\n",
    "test_vectorized = vectorizer.transform(test_normal)"
   ]
  },
  {
   "cell_type": "markdown",
   "metadata": {},
   "source": [
    "Построим несколько моделей и посмотрим, как они себя покажут на тестовом множестве. Зададим итератор разбиений для кросс-валидации на 10 фолдов, зададим список моделей и будем искать оптимальные гиперпараметры по сетке."
   ]
  },
  {
   "cell_type": "code",
   "execution_count": 75,
   "metadata": {
    "collapsed": false
   },
   "outputs": [
    {
     "name": "stdout",
     "output_type": "stream",
     "text": [
      "For Logistic Regression the score is 0.9507221750212405 with parameters {'random_state': 0, 'C': 10, 'class_weight': None}\n",
      "For Random Forest the score is 0.9252336448598131 with parameters {'n_estimators': 300, 'random_state': 0, 'max_depth': None, 'class_weight': 'balanced'}\n",
      "For Gradient Boosting the score is 0.9447748513169074 with parameters {'n_estimators': 200, 'random_state': 0, 'max_depth': 5}\n",
      "The best estimator is LogisticRegression(C=10, class_weight=None, dual=False, fit_intercept=True,\n",
      "          intercept_scaling=1, max_iter=100, multi_class='ovr', n_jobs=1,\n",
      "          penalty='l2', random_state=0, solver='liblinear', tol=0.0001,\n",
      "          verbose=0, warm_start=False)\n",
      "with accuracy = 0.9507221750212405\n"
     ]
    }
   ],
   "source": [
    "cross_validator = StratifiedKFold(y=train_target, n_folds=10, shuffle=True, random_state=0)\n",
    "models = [LogisticRegression(), RandomForestClassifier(), GradientBoostingClassifier()]\n",
    "models_names = ['Logistic Regression', 'Random Forest', 'Gradient Boosting']\n",
    "best_score = 0\n",
    "param_grids = [{'C': [10**x for x in range(-3, 2)], 'class_weight': [None, 'balanced'], 'random_state': [0]},\n",
    "               {'n_estimators': [100, 200, 300], 'max_depth': [5, 8, None],\n",
    "                'class_weight': [None, 'balanced'], 'random_state': [0]},\n",
    "                {'max_depth': [3, 4, 5], 'n_estimators': [100, 150, 200],\n",
    "                 'random_state': [0]}]\n",
    "for clf, params, name in zip(models, param_grids, models_names):\n",
    "    gs = GridSearchCV(estimator=clf, param_grid=params, scoring='accuracy', cv=cross_validator)\n",
    "    gs.fit(train_vectorized.toarray(), train_target)\n",
    "    print('For {} the score is {} with parameters {}'.format(name, gs.best_score_, gs.best_params_))\n",
    "    if gs.best_score_ > best_score:\n",
    "        best_score = gs.best_score_\n",
    "        best_estimator = gs.best_estimator_\n",
    "\n",
    "print('The best estimator is {}\\nwith accuracy = {}'.format(best_estimator, best_score))"
   ]
  },
  {
   "cell_type": "markdown",
   "metadata": {},
   "source": [
    "*** Среднее по валидационным разбиениям показывает хорошие результаты на всех алгоритмах, выберем логистическую регрессию, как алгоритм с самым высоким средним значением accuracy. Проверим теперь этот алгоритм на тестовой выборке. ***"
   ]
  },
  {
   "cell_type": "code",
   "execution_count": 84,
   "metadata": {
    "collapsed": false
   },
   "outputs": [
    {
     "name": "stdout",
     "output_type": "stream",
     "text": [
      "             precision    recall  f1-score   support\n",
      "\n",
      "          0       0.92      0.97      0.94       385\n",
      "          1       0.97      0.91      0.94       398\n",
      "\n",
      "avg / total       0.94      0.94      0.94       783\n",
      "\n"
     ]
    },
    {
     "data": {
      "image/png": "[encoded data removed]",
      "text/plain": [
       "<matplotlib.figure.Figure at 0x114eb2400>"
      ]
     },
     "metadata": {},
     "output_type": "display_data"
    },
    {
     "name": "stdout",
     "output_type": "stream",
     "text": [
      "Area under ROC curve score = 0.9900345885270507\n"
     ]
    }
   ],
   "source": [
    "from sklearn.metrics import classification_report, roc_auc_score, roc_curve\n",
    "from matplotlib import pyplot as plt\n",
    "pred = best_estimator.predict_proba(test_vectorized.toarray())[:,1]\n",
    "print(classification_report(test_target, best_estimator.predict(test_vectorized.toarray())))\n",
    "fpr, tpr, thresholds = metrics.roc_curve(test_target, pred)\n",
    "plt.plot(fpr, tpr)\n",
    "plt.xlabel('False positive rate')\n",
    "plt.ylabel('True positive rate')\n",
    "plt.show()\n",
    "print('Area under ROC curve score = {}'.format(roc_auc_score(test_target, pred)))"
   ]
  },
  {
   "cell_type": "markdown",
   "metadata": {},
   "source": [
    "*** II. a) TF-IDF ***"
   ]
  },
  {
   "cell_type": "code",
   "execution_count": 97,
   "metadata": {
    "collapsed": true
   },
   "outputs": [],
   "source": [
    "vectorizer_tfidf = TfidfVectorizer()\n",
    "train_tfidf = vectorizer.fit_transform(train_normal)\n",
    "test_tfidf = vectorizer.transform(test_normal)"
   ]
  },
  {
   "cell_type": "markdown",
   "metadata": {},
   "source": [
    "Повторим шаг с выбором моделей"
   ]
  },
  {
   "cell_type": "code",
   "execution_count": 95,
   "metadata": {
    "collapsed": false
   },
   "outputs": [
    {
     "name": "stdout",
     "output_type": "stream",
     "text": [
      "For Logistic Regression the score is 0.9507221750212405 with parameters {'random_state': 1, 'C': 10, 'class_weight': None}\n",
      "For Random Forest the score is 0.9507221750212405 with parameters {'n_estimators': 300, 'random_state': 0, 'max_depth': None, 'class_weight': 'balanced'}\n",
      "For Gradient Boosting the score is 0.9507221750212405 with parameters {'n_estimators': 200, 'random_state': 0, 'max_depth': 5}\n",
      "The best estimator is LogisticRegression(C=10, class_weight=None, dual=False, fit_intercept=True,\n",
      "          intercept_scaling=1, max_iter=100, multi_class='ovr', n_jobs=1,\n",
      "          penalty='l2', random_state=1, solver='liblinear', tol=0.0001,\n",
      "          verbose=0, warm_start=False)\n",
      "with accuracy = 0.9507221750212405\n"
     ]
    }
   ],
   "source": [
    "cross_validator = StratifiedKFold(y=train_target, n_folds=10, shuffle=True, random_state=0)\n",
    "models = [LogisticRegression(), RandomForestClassifier(), GradientBoostingClassifier()]\n",
    "models_names = ['Logistic Regression', 'Random Forest', 'Gradient Boosting']\n",
    "best_score = 0\n",
    "param_grids = [{'C': [10**x for x in range(-3, 2)], 'class_weight': [None, 'balanced'], 'random_state': [1]},\n",
    "               {'n_estimators': [100, 200, 300], 'max_depth': [5, 8, None],\n",
    "                'class_weight': [None, 'balanced'], 'random_state': [0]},\n",
    "                {'max_depth': [3, 4, 5], 'n_estimators': [100, 150, 200],\n",
    "                 'random_state': [0]}]\n",
    "for clf, params, name in zip(models, param_grids, models_names):\n",
    "    gs = GridSearchCV(estimator=clf, param_grid=params, scoring='accuracy', cv=cross_validator)\n",
    "    gs.fit(train_tfidf.toarray(), train_target)\n",
    "    if gs.best_score_ > best_score:\n",
    "        best_score = gs.best_score_\n",
    "        best_estimator = gs.best_estimator_\n",
    "    print('For {} the score is {} with parameters {}'.format(name, best_score, gs.best_params_))\n",
    "\n",
    "\n",
    "print('The best estimator is {}\\nwith accuracy = {}'.format(best_estimator, best_score))"
   ]
  },
  {
   "cell_type": "code",
   "execution_count": 99,
   "metadata": {
    "collapsed": false
   },
   "outputs": [
    {
     "name": "stdout",
     "output_type": "stream",
     "text": [
      "             precision    recall  f1-score   support\n",
      "\n",
      "          0       0.92      0.97      0.94       385\n",
      "          1       0.97      0.91      0.94       398\n",
      "\n",
      "avg / total       0.94      0.94      0.94       783\n",
      "\n"
     ]
    },
    {
     "data": {
      "image/png": "[encoded data removed]",
      "text/plain": [
       "<matplotlib.figure.Figure at 0x1145db4e0>"
      ]
     },
     "metadata": {},
     "output_type": "display_data"
    },
    {
     "name": "stdout",
     "output_type": "stream",
     "text": [
      "Area under ROC curve score = 0.9900345885270507\n"
     ]
    }
   ],
   "source": [
    "pred = best_estimator.predict_proba(test_tfidf.toarray())[:,1]\n",
    "print(classification_report(test_target, best_estimator.predict(test_tfidf.toarray())))\n",
    "fpr, tpr, thresholds = metrics.roc_curve(test_target, pred)\n",
    "plt.plot(fpr, tpr)\n",
    "plt.xlabel('False positive rate')\n",
    "plt.ylabel('True positive rate')\n",
    "plt.show()\n",
    "print('Area under ROC curve score = {}'.format(roc_auc_score(test_target, pred)))"
   ]
  },
  {
   "cell_type": "markdown",
   "metadata": {},
   "source": [
    "*** Теперь проверим написанные вручную алгоритмы: трехслойный перцептрон и логистическую регрессию ***"
   ]
  },
  {
   "cell_type": "code",
   "execution_count": 117,
   "metadata": {
    "collapsed": true
   },
   "outputs": [],
   "source": [
    "#  Dependencies\n",
    "import numpy as np\n",
    "from sklearn.base import BaseEstimator, ClassifierMixin\n",
    "\n",
    "# Logistic regression class\n",
    "\n",
    "class LogisticRegression_m(BaseEstimator, ClassifierMixin):\n",
    "\n",
    "    def __init__(self, eta=0.1, C=0, n_iter=100, method='batch', verbose=False):\n",
    "        self.eta_ = eta\n",
    "        self.n_iter_ = n_iter\n",
    "        self.C_ = C\n",
    "        self.method_ = method\n",
    "\n",
    "    def fit(self, X, y):\n",
    "        # self.errors_ = []\n",
    "        self.all_w_ = np.zeros((np.unique(y).size, X.shape[1] + 1))\n",
    "        # self.w_ = np.zeros(X.shape[1] + 1)\n",
    "        self.num_labels = np.unique(y).size\n",
    "\n",
    "        if self.method_ == 'batch':\n",
    "            self._batch_grad(X, y)\n",
    "        if self.method_ == 'stoch':\n",
    "            self._stoch_grad(X, y)\n",
    "        if self.method_ == 'mini-batch':\n",
    "            self._minibatch_grad(X, y)\n",
    "        return self\n",
    "\n",
    "    def _batch_grad(self, X, y):\n",
    "        for i in range(self.n_iter_):\n",
    "            self._batch_step(X, y)\n",
    "\n",
    "    def _batch_step(self, X, y):\n",
    "        self._one_v_rest(X, y)\n",
    "\n",
    "    def _one_v_rest(self, X, y):\n",
    "        for c in np.unique(y):\n",
    "            y_ovr = np.where(y == c, 1, 0)\n",
    "            error = y_ovr - self.sigmoid(X, c)\n",
    "            self.all_w_[c, 0] += self.eta_ * error.sum() - self.eta_ * \\\n",
    "                self.C_ * self.all_w_[c, 0]\n",
    "            self.all_w_[c, 1:] += self.eta_ * X.T @ error - \\\n",
    "                self.eta_ * self.C_ * self.all_w_[c, 1:]\n",
    "\n",
    "    def _stoch_grad(self, X, y):\n",
    "        for i in range(self.n_iter_):\n",
    "            self._stoch_step(X, y)\n",
    "\n",
    "    def _stoch_step(self, X, y):\n",
    "        rand_indices = np.random.permutation(y.size)\n",
    "        rand_choice = np.random.randint(0, y.size)\n",
    "        sample = X[rand_indices, :][rand_choice, :]\n",
    "\n",
    "        error = y[rand_indices][rand_choice] - self.sigmoid(sample)\n",
    "        self.w_[0] += self.eta_ * error - self.eta_ * self.C_ * self.w_[0]\n",
    "        self.w_[1:] += self.eta_ * sample * \\\n",
    "            error - self.eta_ * self.C_ * self.w_[1:]\n",
    "        self.errors_.append(self.logit_loss(\n",
    "            sample, y[rand_indices][rand_choice]))\n",
    "\n",
    "    def sigmoid(self, X, c):\n",
    "        z = self.net_input(X, c)\n",
    "        return (1 / (1 + np.exp(-z)))\n",
    "\n",
    "    def net_input(self, X, c):\n",
    "        return (X @ self.all_w_[c, 1:] + self.all_w_[c, 0])\n",
    "\n",
    "    def logit_loss(self, X, y):\n",
    "        return -(y * np.log(self.sigmoid(X)) + (1 - y) *\n",
    "                 np.log(1 - self.sigmoid(X))).sum()\n",
    "\n",
    "    def predict(self, X):\n",
    "        probas = self._predict_one_v_rest(X)\n",
    "        return np.argmax(probas, axis=1)\n",
    "\n",
    "    def predict_proba(self, X):\n",
    "        return self._predict_one_v_rest(X)\n",
    "\n",
    "    def _predict_one_v_rest(self, X):\n",
    "        probas = np.zeros((X.shape[0], self.num_labels))\n",
    "        for c in range(self.num_labels):\n",
    "            probas[:, c] = self.sigmoid(X, c)\n",
    "        return probas"
   ]
  },
  {
   "cell_type": "code",
   "execution_count": 129,
   "metadata": {
    "collapsed": false
   },
   "outputs": [
    {
     "name": "stderr",
     "output_type": "stream",
     "text": [
      "/usr/local/lib/python3.5/site-packages/ipykernel/__main__.py:67: RuntimeWarning: overflow encountered in exp\n"
     ]
    },
    {
     "data": {
      "image/png": "[encoded data removed]",
      "text/plain": [
       "<matplotlib.figure.Figure at 0x10f03e198>"
      ]
     },
     "metadata": {},
     "output_type": "display_data"
    }
   ],
   "source": [
    "lrm = LogisticRegression_m()\n",
    "lrm.fit(train_tfidf, train_target)\n",
    "predi = lrm.predict_proba(test_tfidf)\n",
    "fpr, tpr, thresholds = metrics.roc_curve(test_target, predi[:, 1])\n",
    "plt.plot(fpr, tpr)\n",
    "plt.show()"
   ]
  },
  {
   "cell_type": "code",
   "execution_count": null,
   "metadata": {
    "collapsed": true
   },
   "outputs": [],
   "source": []
  }
 ],
 "metadata": {
  "kernelspec": {
   "display_name": "Python 3",
   "language": "python",
   "name": "python3"
  },
  "language_info": {
   "codemirror_mode": {
    "name": "ipython",
    "version": 3
   },
   "file_extension": ".py",
   "mimetype": "text/x-python",
   "name": "python",
   "nbconvert_exporter": "python",
   "pygments_lexer": "ipython3",
   "version": "3.5.2"
  }
 },
 "nbformat": 4,
 "nbformat_minor": 1
}
